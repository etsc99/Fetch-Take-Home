{
 "cells": [
  {
   "cell_type": "markdown",
   "metadata": {},
   "source": [
    "# Part 1: Exploring the Data"
   ]
  },
  {
   "cell_type": "code",
   "execution_count": 273,
   "metadata": {},
   "outputs": [],
   "source": [
    "import numpy as np\n",
    "import pandas as pd\n",
    "import matplotlib.pyplot as plt\n",
    "import seaborn as sns\n",
    "from datetime import datetime"
   ]
  },
  {
   "cell_type": "markdown",
   "metadata": {},
   "source": [
    "## Data Import and Examination"
   ]
  },
  {
   "cell_type": "markdown",
   "metadata": {},
   "source": [
    "First, I'll import the data and quickly examine the columns and their types, as well as understanding what the data looks like.  For any possible data quality issues, I will dive in deeper to the variables which I feel present issues and fix them (if possible)."
   ]
  },
  {
   "cell_type": "code",
   "execution_count": 274,
   "metadata": {},
   "outputs": [],
   "source": [
    "products = pd.read_csv(\"PRODUCTS_TAKEHOME.csv\")\n",
    "users = pd.read_csv(\"USER_TAKEHOME.csv\")\n",
    "transactions = pd.read_csv(\"TRANSACTION_TAKEHOME.csv\")"
   ]
  },
  {
   "cell_type": "markdown",
   "metadata": {},
   "source": [
    "### Products"
   ]
  },
  {
   "cell_type": "markdown",
   "metadata": {},
   "source": [
    "First, the products table."
   ]
  },
  {
   "cell_type": "code",
   "execution_count": 275,
   "metadata": {},
   "outputs": [
    {
     "data": {
      "text/html": [
       "<div>\n",
       "<style scoped>\n",
       "    .dataframe tbody tr th:only-of-type {\n",
       "        vertical-align: middle;\n",
       "    }\n",
       "\n",
       "    .dataframe tbody tr th {\n",
       "        vertical-align: top;\n",
       "    }\n",
       "\n",
       "    .dataframe thead th {\n",
       "        text-align: right;\n",
       "    }\n",
       "</style>\n",
       "<table border=\"1\" class=\"dataframe\">\n",
       "  <thead>\n",
       "    <tr style=\"text-align: right;\">\n",
       "      <th></th>\n",
       "      <th>CATEGORY_1</th>\n",
       "      <th>CATEGORY_2</th>\n",
       "      <th>CATEGORY_3</th>\n",
       "      <th>CATEGORY_4</th>\n",
       "      <th>MANUFACTURER</th>\n",
       "      <th>BRAND</th>\n",
       "      <th>BARCODE</th>\n",
       "    </tr>\n",
       "  </thead>\n",
       "  <tbody>\n",
       "    <tr>\n",
       "      <th>50056</th>\n",
       "      <td>Health &amp; Wellness</td>\n",
       "      <td>Hair Care</td>\n",
       "      <td>Conditioner</td>\n",
       "      <td>NaN</td>\n",
       "      <td>REM MANUFACTURER</td>\n",
       "      <td>REM BRAND</td>\n",
       "      <td>6.695585e+10</td>\n",
       "    </tr>\n",
       "    <tr>\n",
       "      <th>713481</th>\n",
       "      <td>Health &amp; Wellness</td>\n",
       "      <td>Bath &amp; Body</td>\n",
       "      <td>Bath Sponges &amp; Loofahs</td>\n",
       "      <td>NaN</td>\n",
       "      <td>PLACEHOLDER MANUFACTURER</td>\n",
       "      <td>VELONA</td>\n",
       "      <td>7.047511e+11</td>\n",
       "    </tr>\n",
       "    <tr>\n",
       "      <th>431048</th>\n",
       "      <td>Health &amp; Wellness</td>\n",
       "      <td>Hair Care</td>\n",
       "      <td>Conditioner</td>\n",
       "      <td>NaN</td>\n",
       "      <td>PROCTER &amp; GAMBLE</td>\n",
       "      <td>HERBAL ESSENCES</td>\n",
       "      <td>1.906790e+11</td>\n",
       "    </tr>\n",
       "    <tr>\n",
       "      <th>821785</th>\n",
       "      <td>Health &amp; Wellness</td>\n",
       "      <td>First Aid</td>\n",
       "      <td>First Aid Kits</td>\n",
       "      <td>NaN</td>\n",
       "      <td>FJDZ INTERNATIONAL INC</td>\n",
       "      <td>EVRIDWEAR</td>\n",
       "      <td>6.015578e+11</td>\n",
       "    </tr>\n",
       "    <tr>\n",
       "      <th>445739</th>\n",
       "      <td>Snacks</td>\n",
       "      <td>Fruit &amp; Vegetable Snacks</td>\n",
       "      <td>Fruit Rolls &amp; Twists</td>\n",
       "      <td>NaN</td>\n",
       "      <td>GENERAL MILLS</td>\n",
       "      <td>FRUIT BY THE FOOT</td>\n",
       "      <td>1.600015e+10</td>\n",
       "    </tr>\n",
       "  </tbody>\n",
       "</table>\n",
       "</div>"
      ],
      "text/plain": [
       "               CATEGORY_1                CATEGORY_2              CATEGORY_3  \\\n",
       "50056   Health & Wellness                 Hair Care             Conditioner   \n",
       "713481  Health & Wellness               Bath & Body  Bath Sponges & Loofahs   \n",
       "431048  Health & Wellness                 Hair Care             Conditioner   \n",
       "821785  Health & Wellness                 First Aid          First Aid Kits   \n",
       "445739             Snacks  Fruit & Vegetable Snacks    Fruit Rolls & Twists   \n",
       "\n",
       "       CATEGORY_4              MANUFACTURER              BRAND       BARCODE  \n",
       "50056         NaN          REM MANUFACTURER          REM BRAND  6.695585e+10  \n",
       "713481        NaN  PLACEHOLDER MANUFACTURER             VELONA  7.047511e+11  \n",
       "431048        NaN          PROCTER & GAMBLE    HERBAL ESSENCES  1.906790e+11  \n",
       "821785        NaN    FJDZ INTERNATIONAL INC          EVRIDWEAR  6.015578e+11  \n",
       "445739        NaN             GENERAL MILLS  FRUIT BY THE FOOT  1.600015e+10  "
      ]
     },
     "execution_count": 275,
     "metadata": {},
     "output_type": "execute_result"
    }
   ],
   "source": [
    "#Note: I like .sample() more than .head() because I can rerun the cell many times and \n",
    "#get a basic understanding the nature + oddities of the data with a simple \n",
    "#visual examination.\n",
    "\n",
    "products.sample(5)"
   ]
  },
  {
   "cell_type": "code",
   "execution_count": 276,
   "metadata": {},
   "outputs": [
    {
     "name": "stdout",
     "output_type": "stream",
     "text": [
      "<class 'pandas.core.frame.DataFrame'>\n",
      "RangeIndex: 845552 entries, 0 to 845551\n",
      "Data columns (total 7 columns):\n",
      " #   Column        Non-Null Count   Dtype  \n",
      "---  ------        --------------   -----  \n",
      " 0   CATEGORY_1    845441 non-null  object \n",
      " 1   CATEGORY_2    844128 non-null  object \n",
      " 2   CATEGORY_3    784986 non-null  object \n",
      " 3   CATEGORY_4    67459 non-null   object \n",
      " 4   MANUFACTURER  619078 non-null  object \n",
      " 5   BRAND         619080 non-null  object \n",
      " 6   BARCODE       841527 non-null  float64\n",
      "dtypes: float64(1), object(6)\n",
      "memory usage: 45.2+ MB\n"
     ]
    }
   ],
   "source": [
    "products.info()"
   ]
  },
  {
   "cell_type": "code",
   "execution_count": 277,
   "metadata": {},
   "outputs": [],
   "source": [
    "#Converting the barcode to an object, as the key should not be a float\n",
    "\n",
    "products[\"BARCODE\"] = products[\"BARCODE\"].astype(\"Int64\").astype(str)\n",
    "products[\"BARCODE\"] = products[\"BARCODE\"].replace(\"<NA>\", np.NaN) #Preserving NaN is cleaner"
   ]
  },
  {
   "cell_type": "code",
   "execution_count": 278,
   "metadata": {},
   "outputs": [
    {
     "data": {
      "text/plain": [
       "False"
      ]
     },
     "execution_count": 278,
     "metadata": {},
     "output_type": "execute_result"
    }
   ],
   "source": [
    "#Checking if each barcode in products is unique (it should be as the primary key)\n",
    "\n",
    "len(products) == products[\"BARCODE\"].nunique()"
   ]
  },
  {
   "cell_type": "code",
   "execution_count": 279,
   "metadata": {},
   "outputs": [
    {
     "data": {
      "text/plain": [
       "215"
      ]
     },
     "execution_count": 279,
     "metadata": {},
     "output_type": "execute_result"
    }
   ],
   "source": [
    "#Checking the amount of duplicate rows\n",
    "\n",
    "len(products) - len(products.drop_duplicates())"
   ]
  },
  {
   "cell_type": "code",
   "execution_count": 280,
   "metadata": {},
   "outputs": [
    {
     "data": {
      "text/html": [
       "<div>\n",
       "<style scoped>\n",
       "    .dataframe tbody tr th:only-of-type {\n",
       "        vertical-align: middle;\n",
       "    }\n",
       "\n",
       "    .dataframe tbody tr th {\n",
       "        vertical-align: top;\n",
       "    }\n",
       "\n",
       "    .dataframe thead th {\n",
       "        text-align: right;\n",
       "    }\n",
       "</style>\n",
       "<table border=\"1\" class=\"dataframe\">\n",
       "  <thead>\n",
       "    <tr style=\"text-align: right;\">\n",
       "      <th></th>\n",
       "      <th>CATEGORY_1</th>\n",
       "      <th>CATEGORY_2</th>\n",
       "      <th>CATEGORY_3</th>\n",
       "      <th>CATEGORY_4</th>\n",
       "      <th>MANUFACTURER</th>\n",
       "      <th>BRAND</th>\n",
       "      <th>BARCODE</th>\n",
       "    </tr>\n",
       "  </thead>\n",
       "  <tbody>\n",
       "    <tr>\n",
       "      <th>612573</th>\n",
       "      <td>Snacks</td>\n",
       "      <td>Candy</td>\n",
       "      <td>Chocolate Candy</td>\n",
       "      <td>NaN</td>\n",
       "      <td>THE HERSHEY COMPANY</td>\n",
       "      <td>HERSHEY'S</td>\n",
       "      <td>3423905</td>\n",
       "    </tr>\n",
       "    <tr>\n",
       "      <th>827242</th>\n",
       "      <td>Snacks</td>\n",
       "      <td>Candy</td>\n",
       "      <td>Chocolate Candy</td>\n",
       "      <td>NaN</td>\n",
       "      <td>THE HERSHEY COMPANY</td>\n",
       "      <td>HERSHEY'S</td>\n",
       "      <td>3423905</td>\n",
       "    </tr>\n",
       "  </tbody>\n",
       "</table>\n",
       "</div>"
      ],
      "text/plain": [
       "       CATEGORY_1 CATEGORY_2       CATEGORY_3 CATEGORY_4         MANUFACTURER  \\\n",
       "612573     Snacks      Candy  Chocolate Candy        NaN  THE HERSHEY COMPANY   \n",
       "827242     Snacks      Candy  Chocolate Candy        NaN  THE HERSHEY COMPANY   \n",
       "\n",
       "            BRAND  BARCODE  \n",
       "612573  HERSHEY'S  3423905  \n",
       "827242  HERSHEY'S  3423905  "
      ]
     },
     "execution_count": 280,
     "metadata": {},
     "output_type": "execute_result"
    }
   ],
   "source": [
    "#Example of a duplicate row\n",
    "\n",
    "products[products[\"BARCODE\"] == products[\"BARCODE\"].value_counts().index[0]]"
   ]
  },
  {
   "cell_type": "code",
   "execution_count": 281,
   "metadata": {},
   "outputs": [
    {
     "data": {
      "text/html": [
       "<div>\n",
       "<style scoped>\n",
       "    .dataframe tbody tr th:only-of-type {\n",
       "        vertical-align: middle;\n",
       "    }\n",
       "\n",
       "    .dataframe tbody tr th {\n",
       "        vertical-align: top;\n",
       "    }\n",
       "\n",
       "    .dataframe thead th {\n",
       "        text-align: right;\n",
       "    }\n",
       "</style>\n",
       "<table border=\"1\" class=\"dataframe\">\n",
       "  <thead>\n",
       "    <tr style=\"text-align: right;\">\n",
       "      <th></th>\n",
       "      <th>CATEGORY_1</th>\n",
       "      <th>CATEGORY_2</th>\n",
       "      <th>CATEGORY_3</th>\n",
       "      <th>CATEGORY_4</th>\n",
       "      <th>MANUFACTURER</th>\n",
       "      <th>BRAND</th>\n",
       "      <th>BARCODE</th>\n",
       "    </tr>\n",
       "  </thead>\n",
       "  <tbody>\n",
       "    <tr>\n",
       "      <th>216314</th>\n",
       "      <td>Snacks</td>\n",
       "      <td>Candy</td>\n",
       "      <td>Chocolate Candy</td>\n",
       "      <td>NaN</td>\n",
       "      <td>FERRERO GROUP</td>\n",
       "      <td>KINDER</td>\n",
       "      <td>80310167</td>\n",
       "    </tr>\n",
       "    <tr>\n",
       "      <th>585634</th>\n",
       "      <td>Snacks</td>\n",
       "      <td>Candy</td>\n",
       "      <td>Chocolate Candy</td>\n",
       "      <td>NaN</td>\n",
       "      <td>KINDER'S</td>\n",
       "      <td>KINDER'S</td>\n",
       "      <td>80310167</td>\n",
       "    </tr>\n",
       "  </tbody>\n",
       "</table>\n",
       "</div>"
      ],
      "text/plain": [
       "       CATEGORY_1 CATEGORY_2       CATEGORY_3 CATEGORY_4   MANUFACTURER  \\\n",
       "216314     Snacks      Candy  Chocolate Candy        NaN  FERRERO GROUP   \n",
       "585634     Snacks      Candy  Chocolate Candy        NaN       KINDER'S   \n",
       "\n",
       "           BRAND   BARCODE  \n",
       "216314    KINDER  80310167  \n",
       "585634  KINDER'S  80310167  "
      ]
     },
     "execution_count": 281,
     "metadata": {},
     "output_type": "execute_result"
    }
   ],
   "source": [
    "#Example of a duplicate barcode without an entire duplicate row\n",
    "\n",
    "products[products[\"BARCODE\"] == products.drop_duplicates()[\"BARCODE\"].value_counts().index[0]]"
   ]
  },
  {
   "cell_type": "markdown",
   "metadata": {},
   "source": [
    "The products table suffers the problem of duplicate rows and duplicate primary keys.  I can remove the duplicate rows, but occurences such as those above may require further questions (did the manufacturer name change for Kinders? Which is correct? What is causing the missing barcodes?)"
   ]
  },
  {
   "cell_type": "code",
   "execution_count": 282,
   "metadata": {},
   "outputs": [],
   "source": [
    "#Filling missing values with the context of the data in mind.\n",
    "\n",
    "products[\"MANUFACTURER\"].fillna(\"Unknown\", inplace = True)\n",
    "products[\"BRAND\"].fillna(\"Unknown\", inplace = True)\n",
    "\n",
    "products[\"CATEGORY_1\"].fillna(\"No Category\", inplace = True)\n",
    "products[\"CATEGORY_2\"].fillna(\"No Sub-Category\", inplace = True)\n",
    "products[\"CATEGORY_3\"].fillna(\"No Sub-Category\", inplace = True)\n",
    "products[\"CATEGORY_4\"].fillna(\"No Sub-Category\", inplace = True)\n",
    "\n",
    "#Changing column names to make more sense\n",
    "\n",
    "products_clean = products.rename(columns = {\"CATEGORY_1\": \"CATEGORY\", \"CATEGORY_2\": \"SUB-CATEGORY_1\", \"CATEGORY_3\": \"SUB-CATEGORY_2\", \"CATEGORY_4\": \"SUB-CATEGORY_3\"})"
   ]
  },
  {
   "cell_type": "code",
   "execution_count": 283,
   "metadata": {},
   "outputs": [
    {
     "data": {
      "text/html": [
       "<div>\n",
       "<style scoped>\n",
       "    .dataframe tbody tr th:only-of-type {\n",
       "        vertical-align: middle;\n",
       "    }\n",
       "\n",
       "    .dataframe tbody tr th {\n",
       "        vertical-align: top;\n",
       "    }\n",
       "\n",
       "    .dataframe thead th {\n",
       "        text-align: right;\n",
       "    }\n",
       "</style>\n",
       "<table border=\"1\" class=\"dataframe\">\n",
       "  <thead>\n",
       "    <tr style=\"text-align: right;\">\n",
       "      <th></th>\n",
       "      <th>CATEGORY</th>\n",
       "      <th>SUB-CATEGORY_1</th>\n",
       "      <th>SUB-CATEGORY_2</th>\n",
       "      <th>SUB-CATEGORY_3</th>\n",
       "      <th>MANUFACTURER</th>\n",
       "      <th>BRAND</th>\n",
       "      <th>BARCODE</th>\n",
       "    </tr>\n",
       "  </thead>\n",
       "  <tbody>\n",
       "    <tr>\n",
       "      <th>730818</th>\n",
       "      <td>Health &amp; Wellness</td>\n",
       "      <td>First Aid</td>\n",
       "      <td>First Aid Kits</td>\n",
       "      <td>No Sub-Category</td>\n",
       "      <td>ACME UNITED CORPORATION</td>\n",
       "      <td>FIRST AID ONLY</td>\n",
       "      <td>92265905688</td>\n",
       "    </tr>\n",
       "    <tr>\n",
       "      <th>73182</th>\n",
       "      <td>Health &amp; Wellness</td>\n",
       "      <td>Hair Care</td>\n",
       "      <td>Shampoo &amp; Conditioner Combinations</td>\n",
       "      <td>No Sub-Category</td>\n",
       "      <td>PROCTER &amp; GAMBLE</td>\n",
       "      <td>HEAD &amp; SHOULDERS</td>\n",
       "      <td>37000731887</td>\n",
       "    </tr>\n",
       "    <tr>\n",
       "      <th>650405</th>\n",
       "      <td>Snacks</td>\n",
       "      <td>Cookies</td>\n",
       "      <td>No Sub-Category</td>\n",
       "      <td>No Sub-Category</td>\n",
       "      <td>MONDELĒZ INTERNATIONAL</td>\n",
       "      <td>CHIPS AHOY!</td>\n",
       "      <td>720996285129</td>\n",
       "    </tr>\n",
       "    <tr>\n",
       "      <th>166996</th>\n",
       "      <td>Health &amp; Wellness</td>\n",
       "      <td>Bath &amp; Body</td>\n",
       "      <td>Bar Soap</td>\n",
       "      <td>No Sub-Category</td>\n",
       "      <td>Unknown</td>\n",
       "      <td>Unknown</td>\n",
       "      <td>850034502168</td>\n",
       "    </tr>\n",
       "    <tr>\n",
       "      <th>628831</th>\n",
       "      <td>Health &amp; Wellness</td>\n",
       "      <td>Bath &amp; Body</td>\n",
       "      <td>Liquid Hand Soap</td>\n",
       "      <td>No Sub-Category</td>\n",
       "      <td>Unknown</td>\n",
       "      <td>Unknown</td>\n",
       "      <td>43834338857</td>\n",
       "    </tr>\n",
       "  </tbody>\n",
       "</table>\n",
       "</div>"
      ],
      "text/plain": [
       "                 CATEGORY SUB-CATEGORY_1                      SUB-CATEGORY_2  \\\n",
       "730818  Health & Wellness      First Aid                      First Aid Kits   \n",
       "73182   Health & Wellness      Hair Care  Shampoo & Conditioner Combinations   \n",
       "650405             Snacks        Cookies                     No Sub-Category   \n",
       "166996  Health & Wellness    Bath & Body                            Bar Soap   \n",
       "628831  Health & Wellness    Bath & Body                    Liquid Hand Soap   \n",
       "\n",
       "         SUB-CATEGORY_3             MANUFACTURER             BRAND  \\\n",
       "730818  No Sub-Category  ACME UNITED CORPORATION    FIRST AID ONLY   \n",
       "73182   No Sub-Category         PROCTER & GAMBLE  HEAD & SHOULDERS   \n",
       "650405  No Sub-Category   MONDELĒZ INTERNATIONAL       CHIPS AHOY!   \n",
       "166996  No Sub-Category                  Unknown           Unknown   \n",
       "628831  No Sub-Category                  Unknown           Unknown   \n",
       "\n",
       "             BARCODE  \n",
       "730818   92265905688  \n",
       "73182    37000731887  \n",
       "650405  720996285129  \n",
       "166996  850034502168  \n",
       "628831   43834338857  "
      ]
     },
     "execution_count": 283,
     "metadata": {},
     "output_type": "execute_result"
    }
   ],
   "source": [
    "#Clean products table with unique barcodes:\n",
    "\n",
    "products_clean.sample(5)"
   ]
  },
  {
   "cell_type": "code",
   "execution_count": 284,
   "metadata": {},
   "outputs": [
    {
     "name": "stdout",
     "output_type": "stream",
     "text": [
      "<class 'pandas.core.frame.DataFrame'>\n",
      "RangeIndex: 845552 entries, 0 to 845551\n",
      "Data columns (total 7 columns):\n",
      " #   Column          Non-Null Count   Dtype \n",
      "---  ------          --------------   ----- \n",
      " 0   CATEGORY        845552 non-null  object\n",
      " 1   SUB-CATEGORY_1  845552 non-null  object\n",
      " 2   SUB-CATEGORY_2  845552 non-null  object\n",
      " 3   SUB-CATEGORY_3  845552 non-null  object\n",
      " 4   MANUFACTURER    845552 non-null  object\n",
      " 5   BRAND           845552 non-null  object\n",
      " 6   BARCODE         841527 non-null  object\n",
      "dtypes: object(7)\n",
      "memory usage: 45.2+ MB\n"
     ]
    }
   ],
   "source": [
    "#Clean products table with unique barcodes:\n",
    "\n",
    "products_clean.info()"
   ]
  },
  {
   "cell_type": "markdown",
   "metadata": {},
   "source": [
    "### Users"
   ]
  },
  {
   "cell_type": "markdown",
   "metadata": {},
   "source": [
    "Next, the users table."
   ]
  },
  {
   "cell_type": "code",
   "execution_count": 285,
   "metadata": {},
   "outputs": [
    {
     "data": {
      "text/html": [
       "<div>\n",
       "<style scoped>\n",
       "    .dataframe tbody tr th:only-of-type {\n",
       "        vertical-align: middle;\n",
       "    }\n",
       "\n",
       "    .dataframe tbody tr th {\n",
       "        vertical-align: top;\n",
       "    }\n",
       "\n",
       "    .dataframe thead th {\n",
       "        text-align: right;\n",
       "    }\n",
       "</style>\n",
       "<table border=\"1\" class=\"dataframe\">\n",
       "  <thead>\n",
       "    <tr style=\"text-align: right;\">\n",
       "      <th></th>\n",
       "      <th>ID</th>\n",
       "      <th>CREATED_DATE</th>\n",
       "      <th>BIRTH_DATE</th>\n",
       "      <th>STATE</th>\n",
       "      <th>LANGUAGE</th>\n",
       "      <th>GENDER</th>\n",
       "    </tr>\n",
       "  </thead>\n",
       "  <tbody>\n",
       "    <tr>\n",
       "      <th>12102</th>\n",
       "      <td>631de5bd198485e890021699</td>\n",
       "      <td>2022-09-11 13:42:21.000 Z</td>\n",
       "      <td>2001-09-11 04:00:00.000 Z</td>\n",
       "      <td>MI</td>\n",
       "      <td>en</td>\n",
       "      <td>male</td>\n",
       "    </tr>\n",
       "    <tr>\n",
       "      <th>19253</th>\n",
       "      <td>66ae4c3a465f309038b61398</td>\n",
       "      <td>2024-08-03 15:26:50.000 Z</td>\n",
       "      <td>1986-03-15 00:00:00.000 Z</td>\n",
       "      <td>AL</td>\n",
       "      <td>en</td>\n",
       "      <td>female</td>\n",
       "    </tr>\n",
       "    <tr>\n",
       "      <th>86843</th>\n",
       "      <td>66b97e9386cc41b000d84d12</td>\n",
       "      <td>2024-08-12 03:16:35.000 Z</td>\n",
       "      <td>1979-02-16 08:00:00.000 Z</td>\n",
       "      <td>WA</td>\n",
       "      <td>en</td>\n",
       "      <td>male</td>\n",
       "    </tr>\n",
       "    <tr>\n",
       "      <th>36033</th>\n",
       "      <td>5e1dbbb8c4614f12895780c7</td>\n",
       "      <td>2020-01-14 13:01:44.000 Z</td>\n",
       "      <td>1964-07-04 00:00:00.000 Z</td>\n",
       "      <td>NC</td>\n",
       "      <td>en</td>\n",
       "      <td>female</td>\n",
       "    </tr>\n",
       "    <tr>\n",
       "      <th>44119</th>\n",
       "      <td>5f45b0c5f8607915c02c4dab</td>\n",
       "      <td>2020-08-26 00:45:57.000 Z</td>\n",
       "      <td>1981-11-29 06:00:00.000 Z</td>\n",
       "      <td>WI</td>\n",
       "      <td>en</td>\n",
       "      <td>male</td>\n",
       "    </tr>\n",
       "  </tbody>\n",
       "</table>\n",
       "</div>"
      ],
      "text/plain": [
       "                             ID               CREATED_DATE  \\\n",
       "12102  631de5bd198485e890021699  2022-09-11 13:42:21.000 Z   \n",
       "19253  66ae4c3a465f309038b61398  2024-08-03 15:26:50.000 Z   \n",
       "86843  66b97e9386cc41b000d84d12  2024-08-12 03:16:35.000 Z   \n",
       "36033  5e1dbbb8c4614f12895780c7  2020-01-14 13:01:44.000 Z   \n",
       "44119  5f45b0c5f8607915c02c4dab  2020-08-26 00:45:57.000 Z   \n",
       "\n",
       "                      BIRTH_DATE STATE LANGUAGE  GENDER  \n",
       "12102  2001-09-11 04:00:00.000 Z    MI       en    male  \n",
       "19253  1986-03-15 00:00:00.000 Z    AL       en  female  \n",
       "86843  1979-02-16 08:00:00.000 Z    WA       en    male  \n",
       "36033  1964-07-04 00:00:00.000 Z    NC       en  female  \n",
       "44119  1981-11-29 06:00:00.000 Z    WI       en    male  "
      ]
     },
     "execution_count": 285,
     "metadata": {},
     "output_type": "execute_result"
    }
   ],
   "source": [
    "users.sample(5)"
   ]
  },
  {
   "cell_type": "code",
   "execution_count": 286,
   "metadata": {},
   "outputs": [
    {
     "name": "stdout",
     "output_type": "stream",
     "text": [
      "<class 'pandas.core.frame.DataFrame'>\n",
      "RangeIndex: 100000 entries, 0 to 99999\n",
      "Data columns (total 6 columns):\n",
      " #   Column        Non-Null Count   Dtype \n",
      "---  ------        --------------   ----- \n",
      " 0   ID            100000 non-null  object\n",
      " 1   CREATED_DATE  100000 non-null  object\n",
      " 2   BIRTH_DATE    96325 non-null   object\n",
      " 3   STATE         95188 non-null   object\n",
      " 4   LANGUAGE      69492 non-null   object\n",
      " 5   GENDER        94108 non-null   object\n",
      "dtypes: object(6)\n",
      "memory usage: 4.6+ MB\n"
     ]
    }
   ],
   "source": [
    "users.info()"
   ]
  },
  {
   "cell_type": "code",
   "execution_count": 287,
   "metadata": {},
   "outputs": [],
   "source": [
    "#Converting date/time variables to datetime objects\n",
    "\n",
    "users[\"CREATED_DATE\"] = pd.to_datetime(users[\"CREATED_DATE\"])\n",
    "users[\"BIRTH_DATE\"] = pd.to_datetime(users[\"BIRTH_DATE\"])"
   ]
  },
  {
   "cell_type": "code",
   "execution_count": 288,
   "metadata": {},
   "outputs": [
    {
     "data": {
      "text/plain": [
       "True"
      ]
     },
     "execution_count": 288,
     "metadata": {},
     "output_type": "execute_result"
    }
   ],
   "source": [
    "#Checking if each id in users is unique (it should be as the primary key)\n",
    "\n",
    "len(users) == users[\"ID\"].nunique()"
   ]
  },
  {
   "cell_type": "markdown",
   "metadata": {},
   "source": [
    "Despite some missing values, the users table appears quite high-quality as all IDs are unique, implying no duplicates."
   ]
  },
  {
   "cell_type": "code",
   "execution_count": 289,
   "metadata": {},
   "outputs": [],
   "source": [
    "#Filling missing values with the context of the data in mind.  The datetime objects will not be filled so they can preserve their data types (NaT)\n",
    "\n",
    "users[\"STATE\"].fillna(\"Unknown\", inplace = True)\n",
    "users[\"LANGUAGE\"].fillna(\"Unknown\", inplace = True)\n",
    "users[\"GENDER\"].fillna(\"Unknown\", inplace = True)"
   ]
  },
  {
   "cell_type": "code",
   "execution_count": 290,
   "metadata": {},
   "outputs": [
    {
     "data": {
      "text/html": [
       "<div>\n",
       "<style scoped>\n",
       "    .dataframe tbody tr th:only-of-type {\n",
       "        vertical-align: middle;\n",
       "    }\n",
       "\n",
       "    .dataframe tbody tr th {\n",
       "        vertical-align: top;\n",
       "    }\n",
       "\n",
       "    .dataframe thead th {\n",
       "        text-align: right;\n",
       "    }\n",
       "</style>\n",
       "<table border=\"1\" class=\"dataframe\">\n",
       "  <thead>\n",
       "    <tr style=\"text-align: right;\">\n",
       "      <th></th>\n",
       "      <th>ID</th>\n",
       "      <th>CREATED_DATE</th>\n",
       "      <th>BIRTH_DATE</th>\n",
       "      <th>STATE</th>\n",
       "      <th>LANGUAGE</th>\n",
       "      <th>GENDER</th>\n",
       "    </tr>\n",
       "  </thead>\n",
       "  <tbody>\n",
       "    <tr>\n",
       "      <th>2712</th>\n",
       "      <td>629d5aa4d9666655703419d6</td>\n",
       "      <td>2022-06-06 01:38:44+00:00</td>\n",
       "      <td>1958-06-06 00:00:00+00:00</td>\n",
       "      <td>CA</td>\n",
       "      <td>es-419</td>\n",
       "      <td>female</td>\n",
       "    </tr>\n",
       "    <tr>\n",
       "      <th>42043</th>\n",
       "      <td>5dcb29dcbeba2b1315032af3</td>\n",
       "      <td>2019-11-12 21:53:32+00:00</td>\n",
       "      <td>1980-11-11 05:00:00+00:00</td>\n",
       "      <td>VA</td>\n",
       "      <td>Unknown</td>\n",
       "      <td>female</td>\n",
       "    </tr>\n",
       "    <tr>\n",
       "      <th>41275</th>\n",
       "      <td>63fc55c538f010745ba1e1d0</td>\n",
       "      <td>2023-02-27 07:03:33+00:00</td>\n",
       "      <td>1983-03-26 08:00:00+00:00</td>\n",
       "      <td>CA</td>\n",
       "      <td>en</td>\n",
       "      <td>male</td>\n",
       "    </tr>\n",
       "    <tr>\n",
       "      <th>49386</th>\n",
       "      <td>64d8fff4c606ac082997d7ac</td>\n",
       "      <td>2023-08-13 16:08:20+00:00</td>\n",
       "      <td>1989-04-22 00:00:00+00:00</td>\n",
       "      <td>CA</td>\n",
       "      <td>en</td>\n",
       "      <td>female</td>\n",
       "    </tr>\n",
       "    <tr>\n",
       "      <th>57606</th>\n",
       "      <td>5fc28c7294c4b94b967e31f8</td>\n",
       "      <td>2020-11-28 17:44:18+00:00</td>\n",
       "      <td>1974-11-21 00:00:00+00:00</td>\n",
       "      <td>TX</td>\n",
       "      <td>Unknown</td>\n",
       "      <td>male</td>\n",
       "    </tr>\n",
       "  </tbody>\n",
       "</table>\n",
       "</div>"
      ],
      "text/plain": [
       "                             ID              CREATED_DATE  \\\n",
       "2712   629d5aa4d9666655703419d6 2022-06-06 01:38:44+00:00   \n",
       "42043  5dcb29dcbeba2b1315032af3 2019-11-12 21:53:32+00:00   \n",
       "41275  63fc55c538f010745ba1e1d0 2023-02-27 07:03:33+00:00   \n",
       "49386  64d8fff4c606ac082997d7ac 2023-08-13 16:08:20+00:00   \n",
       "57606  5fc28c7294c4b94b967e31f8 2020-11-28 17:44:18+00:00   \n",
       "\n",
       "                     BIRTH_DATE STATE LANGUAGE  GENDER  \n",
       "2712  1958-06-06 00:00:00+00:00    CA   es-419  female  \n",
       "42043 1980-11-11 05:00:00+00:00    VA  Unknown  female  \n",
       "41275 1983-03-26 08:00:00+00:00    CA       en    male  \n",
       "49386 1989-04-22 00:00:00+00:00    CA       en  female  \n",
       "57606 1974-11-21 00:00:00+00:00    TX  Unknown    male  "
      ]
     },
     "execution_count": 290,
     "metadata": {},
     "output_type": "execute_result"
    }
   ],
   "source": [
    "#Clean users table:\n",
    "\n",
    "users.sample(5)"
   ]
  },
  {
   "cell_type": "code",
   "execution_count": 291,
   "metadata": {},
   "outputs": [
    {
     "name": "stdout",
     "output_type": "stream",
     "text": [
      "<class 'pandas.core.frame.DataFrame'>\n",
      "RangeIndex: 100000 entries, 0 to 99999\n",
      "Data columns (total 6 columns):\n",
      " #   Column        Non-Null Count   Dtype              \n",
      "---  ------        --------------   -----              \n",
      " 0   ID            100000 non-null  object             \n",
      " 1   CREATED_DATE  100000 non-null  datetime64[ns, UTC]\n",
      " 2   BIRTH_DATE    96325 non-null   datetime64[ns, UTC]\n",
      " 3   STATE         100000 non-null  object             \n",
      " 4   LANGUAGE      100000 non-null  object             \n",
      " 5   GENDER        100000 non-null  object             \n",
      "dtypes: datetime64[ns, UTC](2), object(4)\n",
      "memory usage: 4.6+ MB\n"
     ]
    }
   ],
   "source": [
    "#Clean users table:\n",
    "\n",
    "users.info()"
   ]
  },
  {
   "cell_type": "markdown",
   "metadata": {},
   "source": [
    "### Transactions"
   ]
  },
  {
   "cell_type": "markdown",
   "metadata": {},
   "source": [
    "Last, the transactions table."
   ]
  },
  {
   "cell_type": "code",
   "execution_count": 292,
   "metadata": {},
   "outputs": [
    {
     "data": {
      "text/html": [
       "<div>\n",
       "<style scoped>\n",
       "    .dataframe tbody tr th:only-of-type {\n",
       "        vertical-align: middle;\n",
       "    }\n",
       "\n",
       "    .dataframe tbody tr th {\n",
       "        vertical-align: top;\n",
       "    }\n",
       "\n",
       "    .dataframe thead th {\n",
       "        text-align: right;\n",
       "    }\n",
       "</style>\n",
       "<table border=\"1\" class=\"dataframe\">\n",
       "  <thead>\n",
       "    <tr style=\"text-align: right;\">\n",
       "      <th></th>\n",
       "      <th>RECEIPT_ID</th>\n",
       "      <th>PURCHASE_DATE</th>\n",
       "      <th>SCAN_DATE</th>\n",
       "      <th>STORE_NAME</th>\n",
       "      <th>USER_ID</th>\n",
       "      <th>BARCODE</th>\n",
       "      <th>FINAL_QUANTITY</th>\n",
       "      <th>FINAL_SALE</th>\n",
       "    </tr>\n",
       "  </thead>\n",
       "  <tbody>\n",
       "    <tr>\n",
       "      <th>48666</th>\n",
       "      <td>b083256a-2e9a-4dbb-aa0d-701fdbb92f16</td>\n",
       "      <td>2024-08-13</td>\n",
       "      <td>2024-08-13 16:14:36.788 Z</td>\n",
       "      <td>WALMART</td>\n",
       "      <td>5df81f7696284f11dc2d0e99</td>\n",
       "      <td>8.900000e+11</td>\n",
       "      <td>1.00</td>\n",
       "      <td>7.84</td>\n",
       "    </tr>\n",
       "    <tr>\n",
       "      <th>24930</th>\n",
       "      <td>ff3e29f2-5057-4191-b7c2-e3e66e5aece1</td>\n",
       "      <td>2024-08-30</td>\n",
       "      <td>2024-08-30 14:26:56.733 Z</td>\n",
       "      <td>BJ'S WHOLESALE CLUB</td>\n",
       "      <td>62abe1ff165645ea96fe6ca3</td>\n",
       "      <td>8.660001e+10</td>\n",
       "      <td>1.00</td>\n",
       "      <td></td>\n",
       "    </tr>\n",
       "    <tr>\n",
       "      <th>29155</th>\n",
       "      <td>f891c690-dda5-41c6-9744-ffc534e14c6e</td>\n",
       "      <td>2024-08-20</td>\n",
       "      <td>2024-08-23 14:00:49.097 Z</td>\n",
       "      <td>WALGREENS</td>\n",
       "      <td>63e18360b425eb11a476104f</td>\n",
       "      <td>3.008107e+11</td>\n",
       "      <td>1.00</td>\n",
       "      <td>6.79</td>\n",
       "    </tr>\n",
       "    <tr>\n",
       "      <th>16946</th>\n",
       "      <td>ad3cc64b-2b62-4fed-ab6c-edc2b205ce6c</td>\n",
       "      <td>2024-08-25</td>\n",
       "      <td>2024-08-28 16:53:04.362 Z</td>\n",
       "      <td>SAFEWAY</td>\n",
       "      <td>60500905d9d5e812b1ee2f09</td>\n",
       "      <td>1.159410e+10</td>\n",
       "      <td>1.00</td>\n",
       "      <td></td>\n",
       "    </tr>\n",
       "    <tr>\n",
       "      <th>20288</th>\n",
       "      <td>d0314894-e27c-4674-ad57-201cc84895b1</td>\n",
       "      <td>2024-07-13</td>\n",
       "      <td>2024-07-13 13:22:05.257 Z</td>\n",
       "      <td>WALMART</td>\n",
       "      <td>63a4abe9747a17c3519b3682</td>\n",
       "      <td>2.970000e+10</td>\n",
       "      <td>1.00</td>\n",
       "      <td></td>\n",
       "    </tr>\n",
       "  </tbody>\n",
       "</table>\n",
       "</div>"
      ],
      "text/plain": [
       "                                 RECEIPT_ID PURCHASE_DATE  \\\n",
       "48666  b083256a-2e9a-4dbb-aa0d-701fdbb92f16    2024-08-13   \n",
       "24930  ff3e29f2-5057-4191-b7c2-e3e66e5aece1    2024-08-30   \n",
       "29155  f891c690-dda5-41c6-9744-ffc534e14c6e    2024-08-20   \n",
       "16946  ad3cc64b-2b62-4fed-ab6c-edc2b205ce6c    2024-08-25   \n",
       "20288  d0314894-e27c-4674-ad57-201cc84895b1    2024-07-13   \n",
       "\n",
       "                       SCAN_DATE           STORE_NAME  \\\n",
       "48666  2024-08-13 16:14:36.788 Z              WALMART   \n",
       "24930  2024-08-30 14:26:56.733 Z  BJ'S WHOLESALE CLUB   \n",
       "29155  2024-08-23 14:00:49.097 Z            WALGREENS   \n",
       "16946  2024-08-28 16:53:04.362 Z              SAFEWAY   \n",
       "20288  2024-07-13 13:22:05.257 Z              WALMART   \n",
       "\n",
       "                        USER_ID       BARCODE FINAL_QUANTITY FINAL_SALE  \n",
       "48666  5df81f7696284f11dc2d0e99  8.900000e+11           1.00       7.84  \n",
       "24930  62abe1ff165645ea96fe6ca3  8.660001e+10           1.00             \n",
       "29155  63e18360b425eb11a476104f  3.008107e+11           1.00       6.79  \n",
       "16946  60500905d9d5e812b1ee2f09  1.159410e+10           1.00             \n",
       "20288  63a4abe9747a17c3519b3682  2.970000e+10           1.00             "
      ]
     },
     "execution_count": 292,
     "metadata": {},
     "output_type": "execute_result"
    }
   ],
   "source": [
    "transactions.sample(5)"
   ]
  },
  {
   "cell_type": "code",
   "execution_count": 293,
   "metadata": {},
   "outputs": [
    {
     "name": "stdout",
     "output_type": "stream",
     "text": [
      "<class 'pandas.core.frame.DataFrame'>\n",
      "RangeIndex: 50000 entries, 0 to 49999\n",
      "Data columns (total 8 columns):\n",
      " #   Column          Non-Null Count  Dtype  \n",
      "---  ------          --------------  -----  \n",
      " 0   RECEIPT_ID      50000 non-null  object \n",
      " 1   PURCHASE_DATE   50000 non-null  object \n",
      " 2   SCAN_DATE       50000 non-null  object \n",
      " 3   STORE_NAME      50000 non-null  object \n",
      " 4   USER_ID         50000 non-null  object \n",
      " 5   BARCODE         44238 non-null  float64\n",
      " 6   FINAL_QUANTITY  50000 non-null  object \n",
      " 7   FINAL_SALE      50000 non-null  object \n",
      "dtypes: float64(1), object(7)\n",
      "memory usage: 3.1+ MB\n"
     ]
    }
   ],
   "source": [
    "transactions.info()"
   ]
  },
  {
   "cell_type": "code",
   "execution_count": 294,
   "metadata": {},
   "outputs": [],
   "source": [
    "#Converting the barcode to an object\n",
    "\n",
    "transactions[\"BARCODE\"] = transactions[\"BARCODE\"].astype(\"Int64\").astype(str)\n",
    "transactions[\"BARCODE\"] = transactions[\"BARCODE\"].replace(\"<NA>\", np.NaN)\n",
    "\n",
    "#Converting date/time variables to datetime objects\n",
    "\n",
    "transactions[\"PURCHASE_DATE\"] = pd.to_datetime(transactions[\"PURCHASE_DATE\"])\n",
    "transactions[\"SCAN_DATE\"] = pd.to_datetime(transactions[\"SCAN_DATE\"])"
   ]
  },
  {
   "cell_type": "code",
   "execution_count": 295,
   "metadata": {},
   "outputs": [
    {
     "data": {
      "text/plain": [
       "False"
      ]
     },
     "execution_count": 295,
     "metadata": {},
     "output_type": "execute_result"
    }
   ],
   "source": [
    "#Checking if each receipt id is unique\n",
    "\n",
    "len(transactions) == transactions[\"RECEIPT_ID\"].nunique()"
   ]
  },
  {
   "cell_type": "code",
   "execution_count": 296,
   "metadata": {},
   "outputs": [
    {
     "data": {
      "text/html": [
       "<div>\n",
       "<style scoped>\n",
       "    .dataframe tbody tr th:only-of-type {\n",
       "        vertical-align: middle;\n",
       "    }\n",
       "\n",
       "    .dataframe tbody tr th {\n",
       "        vertical-align: top;\n",
       "    }\n",
       "\n",
       "    .dataframe thead th {\n",
       "        text-align: right;\n",
       "    }\n",
       "</style>\n",
       "<table border=\"1\" class=\"dataframe\">\n",
       "  <thead>\n",
       "    <tr style=\"text-align: right;\">\n",
       "      <th></th>\n",
       "      <th>RECEIPT_ID</th>\n",
       "      <th>PURCHASE_DATE</th>\n",
       "      <th>SCAN_DATE</th>\n",
       "      <th>STORE_NAME</th>\n",
       "      <th>USER_ID</th>\n",
       "      <th>BARCODE</th>\n",
       "      <th>FINAL_QUANTITY</th>\n",
       "      <th>FINAL_SALE</th>\n",
       "    </tr>\n",
       "  </thead>\n",
       "  <tbody>\n",
       "    <tr>\n",
       "      <th>18637</th>\n",
       "      <td>bedac253-2256-461b-96af-267748e6cecf</td>\n",
       "      <td>2024-09-08</td>\n",
       "      <td>2024-09-08 20:00:42.348000+00:00</td>\n",
       "      <td>KROGER</td>\n",
       "      <td>614f7e8081627974a57c8a9e</td>\n",
       "      <td>11110121141</td>\n",
       "      <td>zero</td>\n",
       "      <td>0.89</td>\n",
       "    </tr>\n",
       "    <tr>\n",
       "      <th>18638</th>\n",
       "      <td>bedac253-2256-461b-96af-267748e6cecf</td>\n",
       "      <td>2024-09-08</td>\n",
       "      <td>2024-09-08 20:00:42.348000+00:00</td>\n",
       "      <td>KROGER</td>\n",
       "      <td>614f7e8081627974a57c8a9e</td>\n",
       "      <td>11110121141</td>\n",
       "      <td>1.00</td>\n",
       "      <td></td>\n",
       "    </tr>\n",
       "    <tr>\n",
       "      <th>18639</th>\n",
       "      <td>bedac253-2256-461b-96af-267748e6cecf</td>\n",
       "      <td>2024-09-08</td>\n",
       "      <td>2024-09-08 20:00:42.348000+00:00</td>\n",
       "      <td>KROGER</td>\n",
       "      <td>614f7e8081627974a57c8a9e</td>\n",
       "      <td>11110121141</td>\n",
       "      <td>zero</td>\n",
       "      <td>0.89</td>\n",
       "    </tr>\n",
       "    <tr>\n",
       "      <th>18640</th>\n",
       "      <td>bedac253-2256-461b-96af-267748e6cecf</td>\n",
       "      <td>2024-09-08</td>\n",
       "      <td>2024-09-08 20:00:42.348000+00:00</td>\n",
       "      <td>KROGER</td>\n",
       "      <td>614f7e8081627974a57c8a9e</td>\n",
       "      <td>11110121141</td>\n",
       "      <td>1.00</td>\n",
       "      <td></td>\n",
       "    </tr>\n",
       "    <tr>\n",
       "      <th>18641</th>\n",
       "      <td>bedac253-2256-461b-96af-267748e6cecf</td>\n",
       "      <td>2024-09-08</td>\n",
       "      <td>2024-09-08 20:00:42.348000+00:00</td>\n",
       "      <td>KROGER</td>\n",
       "      <td>614f7e8081627974a57c8a9e</td>\n",
       "      <td>11110121141</td>\n",
       "      <td>zero</td>\n",
       "      <td>0.89</td>\n",
       "    </tr>\n",
       "    <tr>\n",
       "      <th>18642</th>\n",
       "      <td>bedac253-2256-461b-96af-267748e6cecf</td>\n",
       "      <td>2024-09-08</td>\n",
       "      <td>2024-09-08 20:00:42.348000+00:00</td>\n",
       "      <td>KROGER</td>\n",
       "      <td>614f7e8081627974a57c8a9e</td>\n",
       "      <td>11110121141</td>\n",
       "      <td>1.00</td>\n",
       "      <td></td>\n",
       "    </tr>\n",
       "    <tr>\n",
       "      <th>39703</th>\n",
       "      <td>bedac253-2256-461b-96af-267748e6cecf</td>\n",
       "      <td>2024-09-08</td>\n",
       "      <td>2024-09-08 20:00:42.348000+00:00</td>\n",
       "      <td>KROGER</td>\n",
       "      <td>614f7e8081627974a57c8a9e</td>\n",
       "      <td>11110121141</td>\n",
       "      <td>1.00</td>\n",
       "      <td>0.89</td>\n",
       "    </tr>\n",
       "    <tr>\n",
       "      <th>39704</th>\n",
       "      <td>bedac253-2256-461b-96af-267748e6cecf</td>\n",
       "      <td>2024-09-08</td>\n",
       "      <td>2024-09-08 20:00:42.348000+00:00</td>\n",
       "      <td>KROGER</td>\n",
       "      <td>614f7e8081627974a57c8a9e</td>\n",
       "      <td>11110121141</td>\n",
       "      <td>1.00</td>\n",
       "      <td>0.89</td>\n",
       "    </tr>\n",
       "    <tr>\n",
       "      <th>39705</th>\n",
       "      <td>bedac253-2256-461b-96af-267748e6cecf</td>\n",
       "      <td>2024-09-08</td>\n",
       "      <td>2024-09-08 20:00:42.348000+00:00</td>\n",
       "      <td>KROGER</td>\n",
       "      <td>614f7e8081627974a57c8a9e</td>\n",
       "      <td>11110121141</td>\n",
       "      <td>1.00</td>\n",
       "      <td>0.89</td>\n",
       "    </tr>\n",
       "    <tr>\n",
       "      <th>39706</th>\n",
       "      <td>bedac253-2256-461b-96af-267748e6cecf</td>\n",
       "      <td>2024-09-08</td>\n",
       "      <td>2024-09-08 20:00:42.348000+00:00</td>\n",
       "      <td>KROGER</td>\n",
       "      <td>614f7e8081627974a57c8a9e</td>\n",
       "      <td>11110121141</td>\n",
       "      <td>1.00</td>\n",
       "      <td>0.89</td>\n",
       "    </tr>\n",
       "    <tr>\n",
       "      <th>39707</th>\n",
       "      <td>bedac253-2256-461b-96af-267748e6cecf</td>\n",
       "      <td>2024-09-08</td>\n",
       "      <td>2024-09-08 20:00:42.348000+00:00</td>\n",
       "      <td>KROGER</td>\n",
       "      <td>614f7e8081627974a57c8a9e</td>\n",
       "      <td>11110121141</td>\n",
       "      <td>1.00</td>\n",
       "      <td>0.89</td>\n",
       "    </tr>\n",
       "    <tr>\n",
       "      <th>39708</th>\n",
       "      <td>bedac253-2256-461b-96af-267748e6cecf</td>\n",
       "      <td>2024-09-08</td>\n",
       "      <td>2024-09-08 20:00:42.348000+00:00</td>\n",
       "      <td>KROGER</td>\n",
       "      <td>614f7e8081627974a57c8a9e</td>\n",
       "      <td>11110121141</td>\n",
       "      <td>1.00</td>\n",
       "      <td>0.89</td>\n",
       "    </tr>\n",
       "  </tbody>\n",
       "</table>\n",
       "</div>"
      ],
      "text/plain": [
       "                                 RECEIPT_ID PURCHASE_DATE  \\\n",
       "18637  bedac253-2256-461b-96af-267748e6cecf    2024-09-08   \n",
       "18638  bedac253-2256-461b-96af-267748e6cecf    2024-09-08   \n",
       "18639  bedac253-2256-461b-96af-267748e6cecf    2024-09-08   \n",
       "18640  bedac253-2256-461b-96af-267748e6cecf    2024-09-08   \n",
       "18641  bedac253-2256-461b-96af-267748e6cecf    2024-09-08   \n",
       "18642  bedac253-2256-461b-96af-267748e6cecf    2024-09-08   \n",
       "39703  bedac253-2256-461b-96af-267748e6cecf    2024-09-08   \n",
       "39704  bedac253-2256-461b-96af-267748e6cecf    2024-09-08   \n",
       "39705  bedac253-2256-461b-96af-267748e6cecf    2024-09-08   \n",
       "39706  bedac253-2256-461b-96af-267748e6cecf    2024-09-08   \n",
       "39707  bedac253-2256-461b-96af-267748e6cecf    2024-09-08   \n",
       "39708  bedac253-2256-461b-96af-267748e6cecf    2024-09-08   \n",
       "\n",
       "                             SCAN_DATE STORE_NAME                   USER_ID  \\\n",
       "18637 2024-09-08 20:00:42.348000+00:00     KROGER  614f7e8081627974a57c8a9e   \n",
       "18638 2024-09-08 20:00:42.348000+00:00     KROGER  614f7e8081627974a57c8a9e   \n",
       "18639 2024-09-08 20:00:42.348000+00:00     KROGER  614f7e8081627974a57c8a9e   \n",
       "18640 2024-09-08 20:00:42.348000+00:00     KROGER  614f7e8081627974a57c8a9e   \n",
       "18641 2024-09-08 20:00:42.348000+00:00     KROGER  614f7e8081627974a57c8a9e   \n",
       "18642 2024-09-08 20:00:42.348000+00:00     KROGER  614f7e8081627974a57c8a9e   \n",
       "39703 2024-09-08 20:00:42.348000+00:00     KROGER  614f7e8081627974a57c8a9e   \n",
       "39704 2024-09-08 20:00:42.348000+00:00     KROGER  614f7e8081627974a57c8a9e   \n",
       "39705 2024-09-08 20:00:42.348000+00:00     KROGER  614f7e8081627974a57c8a9e   \n",
       "39706 2024-09-08 20:00:42.348000+00:00     KROGER  614f7e8081627974a57c8a9e   \n",
       "39707 2024-09-08 20:00:42.348000+00:00     KROGER  614f7e8081627974a57c8a9e   \n",
       "39708 2024-09-08 20:00:42.348000+00:00     KROGER  614f7e8081627974a57c8a9e   \n",
       "\n",
       "           BARCODE FINAL_QUANTITY FINAL_SALE  \n",
       "18637  11110121141           zero       0.89  \n",
       "18638  11110121141           1.00             \n",
       "18639  11110121141           zero       0.89  \n",
       "18640  11110121141           1.00             \n",
       "18641  11110121141           zero       0.89  \n",
       "18642  11110121141           1.00             \n",
       "39703  11110121141           1.00       0.89  \n",
       "39704  11110121141           1.00       0.89  \n",
       "39705  11110121141           1.00       0.89  \n",
       "39706  11110121141           1.00       0.89  \n",
       "39707  11110121141           1.00       0.89  \n",
       "39708  11110121141           1.00       0.89  "
      ]
     },
     "execution_count": 296,
     "metadata": {},
     "output_type": "execute_result"
    }
   ],
   "source": [
    "#Examining the receipt which occurs most often in the data.  There is only 1 unique barcode\n",
    "#within this data which confuses me as the final quantity variable should reflect this number\n",
    "#of rows (This receipt has 12 entries for the same receipt/barcode.  I believe there should be\n",
    "#only one entry but the value of FINAL_QUANTITY should be 12 or 9 if I ignore the \"zero\" entries)\n",
    "\n",
    "transactions[transactions[\"RECEIPT_ID\"] == transactions[\"RECEIPT_ID\"].value_counts().index[0]]"
   ]
  },
  {
   "cell_type": "code",
   "execution_count": 297,
   "metadata": {},
   "outputs": [
    {
     "data": {
      "text/plain": [
       "1    21310\n",
       "0     2801\n",
       "2      318\n",
       "3       11\n",
       "Name: BARCODE, dtype: int64"
      ]
     },
     "execution_count": 297,
     "metadata": {},
     "output_type": "execute_result"
    }
   ],
   "source": [
    "#Number of occurences that each unique number of barcodes exists by receipt id.  \n",
    "\n",
    "transactions.groupby(\"RECEIPT_ID\")[\"BARCODE\"].nunique().value_counts()"
   ]
  },
  {
   "cell_type": "code",
   "execution_count": 298,
   "metadata": {},
   "outputs": [
    {
     "data": {
      "text/plain": [
       "1.00    35698\n",
       "zero    12500\n",
       "2.00     1285\n",
       "3.00      184\n",
       "4.00      139\n",
       "        ...  \n",
       "6.22        1\n",
       "1.22        1\n",
       "1.23        1\n",
       "2.57        1\n",
       "2.27        1\n",
       "Name: FINAL_QUANTITY, Length: 87, dtype: int64"
      ]
     },
     "execution_count": 298,
     "metadata": {},
     "output_type": "execute_result"
    }
   ],
   "source": [
    "#\"zero\" values are a confusing occurence as are the values which are reported as floats for a quantity\n",
    "\n",
    "transactions[\"FINAL_QUANTITY\"].value_counts()"
   ]
  },
  {
   "cell_type": "code",
   "execution_count": 299,
   "metadata": {},
   "outputs": [
    {
     "data": {
      "text/plain": [
       "         12500\n",
       "1.25      1323\n",
       "1.00       744\n",
       "2.99       588\n",
       "1.99       586\n",
       "         ...  \n",
       "16.47        1\n",
       "10.92        1\n",
       "61.30        1\n",
       "13.14        1\n",
       "42.38        1\n",
       "Name: FINAL_SALE, Length: 1435, dtype: int64"
      ]
     },
     "execution_count": 299,
     "metadata": {},
     "output_type": "execute_result"
    }
   ],
   "source": [
    "#Understanding why FINAL_SALE is an object like FINAL_QUANTITY instead of a float\n",
    "\n",
    "transactions[\"FINAL_SALE\"].value_counts()"
   ]
  },
  {
   "cell_type": "code",
   "execution_count": 300,
   "metadata": {},
   "outputs": [
    {
     "data": {
      "text/plain": [
       "' '"
      ]
     },
     "execution_count": 300,
     "metadata": {},
     "output_type": "execute_result"
    }
   ],
   "source": [
    "#Getting the empty space value\n",
    "\n",
    "transactions[\"FINAL_SALE\"].value_counts().index[0]"
   ]
  },
  {
   "cell_type": "code",
   "execution_count": 301,
   "metadata": {},
   "outputs": [],
   "source": [
    "#Fixing the data types of FINAL_QUANTITY and FINAL_SALE.  I wouldn't feel comfortable changing the floats to integers as\n",
    "#I first need to understand why this happening.  I also don't want to assume that the \" \" values for FINAL_SALE are 0, \n",
    "#so I'll make them missing values so I can still report them as floats.\n",
    "\n",
    "transactions[\"FINAL_QUANTITY\"] = transactions[\"FINAL_QUANTITY\"].replace(\"zero\", \"0\").astype(float)\n",
    "transactions[\"FINAL_SALE\"] = transactions[\"FINAL_SALE\"].replace(\" \", np.NaN).astype(float)"
   ]
  },
  {
   "cell_type": "code",
   "execution_count": 302,
   "metadata": {},
   "outputs": [
    {
     "data": {
      "text/html": [
       "<div>\n",
       "<style scoped>\n",
       "    .dataframe tbody tr th:only-of-type {\n",
       "        vertical-align: middle;\n",
       "    }\n",
       "\n",
       "    .dataframe tbody tr th {\n",
       "        vertical-align: top;\n",
       "    }\n",
       "\n",
       "    .dataframe thead th {\n",
       "        text-align: right;\n",
       "    }\n",
       "</style>\n",
       "<table border=\"1\" class=\"dataframe\">\n",
       "  <thead>\n",
       "    <tr style=\"text-align: right;\">\n",
       "      <th></th>\n",
       "      <th>RECEIPT_ID</th>\n",
       "      <th>PURCHASE_DATE</th>\n",
       "      <th>SCAN_DATE</th>\n",
       "      <th>STORE_NAME</th>\n",
       "      <th>USER_ID</th>\n",
       "      <th>BARCODE</th>\n",
       "      <th>FINAL_QUANTITY</th>\n",
       "      <th>FINAL_SALE</th>\n",
       "    </tr>\n",
       "  </thead>\n",
       "  <tbody>\n",
       "    <tr>\n",
       "      <th>9061</th>\n",
       "      <td>5d4f4229-c761-417b-b016-16e0b2ec4131</td>\n",
       "      <td>2024-09-02</td>\n",
       "      <td>2024-09-02 20:40:00.982000+00:00</td>\n",
       "      <td>WALMART</td>\n",
       "      <td>5e6358b9917f99575f689dea</td>\n",
       "      <td>78742051642</td>\n",
       "      <td>0.0</td>\n",
       "      <td>3.94</td>\n",
       "    </tr>\n",
       "    <tr>\n",
       "      <th>17454</th>\n",
       "      <td>b286e0a8-3ae1-4972-be95-b2d5192b23a8</td>\n",
       "      <td>2024-09-07</td>\n",
       "      <td>2024-09-08 10:09:22.593000+00:00</td>\n",
       "      <td>VONS</td>\n",
       "      <td>5ee2f85e120c6f13fd47bfae</td>\n",
       "      <td>16291441903</td>\n",
       "      <td>1.0</td>\n",
       "      <td>NaN</td>\n",
       "    </tr>\n",
       "    <tr>\n",
       "      <th>15826</th>\n",
       "      <td>a167c346-f326-49be-a79c-a5aa9b8bbcdc</td>\n",
       "      <td>2024-07-13</td>\n",
       "      <td>2024-07-13 13:28:22.072000+00:00</td>\n",
       "      <td>DOLLAR TREE STORES INC</td>\n",
       "      <td>5dd6938884bdce11da058c26</td>\n",
       "      <td>26200471594</td>\n",
       "      <td>1.0</td>\n",
       "      <td>NaN</td>\n",
       "    </tr>\n",
       "    <tr>\n",
       "      <th>15683</th>\n",
       "      <td>a0157a2d-8aec-4424-b92a-41a6a92128fd</td>\n",
       "      <td>2024-07-27</td>\n",
       "      <td>2024-07-27 23:00:45.561000+00:00</td>\n",
       "      <td>WALMART</td>\n",
       "      <td>60f707a38db49c7ab8e283eb</td>\n",
       "      <td>28400596688</td>\n",
       "      <td>0.0</td>\n",
       "      <td>3.98</td>\n",
       "    </tr>\n",
       "    <tr>\n",
       "      <th>24567</th>\n",
       "      <td>fb8cd4ad-5853-4dcb-8da3-e7f3f48bec55</td>\n",
       "      <td>2024-06-14</td>\n",
       "      <td>2024-06-25 12:40:37.085000+00:00</td>\n",
       "      <td>ALDI</td>\n",
       "      <td>63954b4790ad5449ec623210</td>\n",
       "      <td>NaN</td>\n",
       "      <td>0.0</td>\n",
       "      <td>1.95</td>\n",
       "    </tr>\n",
       "  </tbody>\n",
       "</table>\n",
       "</div>"
      ],
      "text/plain": [
       "                                 RECEIPT_ID PURCHASE_DATE  \\\n",
       "9061   5d4f4229-c761-417b-b016-16e0b2ec4131    2024-09-02   \n",
       "17454  b286e0a8-3ae1-4972-be95-b2d5192b23a8    2024-09-07   \n",
       "15826  a167c346-f326-49be-a79c-a5aa9b8bbcdc    2024-07-13   \n",
       "15683  a0157a2d-8aec-4424-b92a-41a6a92128fd    2024-07-27   \n",
       "24567  fb8cd4ad-5853-4dcb-8da3-e7f3f48bec55    2024-06-14   \n",
       "\n",
       "                             SCAN_DATE              STORE_NAME  \\\n",
       "9061  2024-09-02 20:40:00.982000+00:00                 WALMART   \n",
       "17454 2024-09-08 10:09:22.593000+00:00                    VONS   \n",
       "15826 2024-07-13 13:28:22.072000+00:00  DOLLAR TREE STORES INC   \n",
       "15683 2024-07-27 23:00:45.561000+00:00                 WALMART   \n",
       "24567 2024-06-25 12:40:37.085000+00:00                    ALDI   \n",
       "\n",
       "                        USER_ID      BARCODE  FINAL_QUANTITY  FINAL_SALE  \n",
       "9061   5e6358b9917f99575f689dea  78742051642             0.0        3.94  \n",
       "17454  5ee2f85e120c6f13fd47bfae  16291441903             1.0         NaN  \n",
       "15826  5dd6938884bdce11da058c26  26200471594             1.0         NaN  \n",
       "15683  60f707a38db49c7ab8e283eb  28400596688             0.0        3.98  \n",
       "24567  63954b4790ad5449ec623210          NaN             0.0        1.95  "
      ]
     },
     "execution_count": 302,
     "metadata": {},
     "output_type": "execute_result"
    }
   ],
   "source": [
    "#Clean(er) transactions table:\n",
    "\n",
    "transactions.sample(5)"
   ]
  },
  {
   "cell_type": "code",
   "execution_count": 303,
   "metadata": {},
   "outputs": [
    {
     "name": "stdout",
     "output_type": "stream",
     "text": [
      "<class 'pandas.core.frame.DataFrame'>\n",
      "RangeIndex: 50000 entries, 0 to 49999\n",
      "Data columns (total 8 columns):\n",
      " #   Column          Non-Null Count  Dtype              \n",
      "---  ------          --------------  -----              \n",
      " 0   RECEIPT_ID      50000 non-null  object             \n",
      " 1   PURCHASE_DATE   50000 non-null  datetime64[ns]     \n",
      " 2   SCAN_DATE       50000 non-null  datetime64[ns, UTC]\n",
      " 3   STORE_NAME      50000 non-null  object             \n",
      " 4   USER_ID         50000 non-null  object             \n",
      " 5   BARCODE         44238 non-null  object             \n",
      " 6   FINAL_QUANTITY  50000 non-null  float64            \n",
      " 7   FINAL_SALE      37500 non-null  float64            \n",
      "dtypes: datetime64[ns, UTC](1), datetime64[ns](1), float64(2), object(4)\n",
      "memory usage: 3.1+ MB\n"
     ]
    }
   ],
   "source": [
    "#Clean(er) transactions table:\n",
    "\n",
    "transactions.info()"
   ]
  },
  {
   "cell_type": "markdown",
   "metadata": {},
   "source": [
    "I wouldn't feel comfortable performing additional cleaning on this data (ie. removing the duplicates) without making sure I'm understanding the structure correctly (same with the duplicates in products)."
   ]
  },
  {
   "cell_type": "markdown",
   "metadata": {},
   "source": [
    "## EDA"
   ]
  },
  {
   "cell_type": "markdown",
   "metadata": {},
   "source": [
    "In this section, I will perform sample univariate and bivariate analysis to understand the structure of the data.  I'll focus more on the variables that are needed for the questions in part 2."
   ]
  },
  {
   "cell_type": "markdown",
   "metadata": {},
   "source": [
    "### Products"
   ]
  },
  {
   "cell_type": "code",
   "execution_count": 255,
   "metadata": {},
   "outputs": [],
   "source": [
    "top_cats = products_clean[\"CATEGORY\"].value_counts().head(10)"
   ]
  },
  {
   "cell_type": "code",
   "execution_count": 256,
   "metadata": {},
   "outputs": [
    {
     "data": {
      "image/png": "[encoded data removed]",
      "text/plain": [
       "<Figure size 720x432 with 1 Axes>"
      ]
     },
     "metadata": {
      "needs_background": "light"
     },
     "output_type": "display_data"
    }
   ],
   "source": [
    "#Univariate analysis of categories\n",
    "\n",
    "plt.figure(figsize=(10, 6))\n",
    "top_cats.plot(kind = \"bar\")\n",
    "plt.title(\"Counts of Top 10 Categories\")\n",
    "plt.show()"
   ]
  },
  {
   "cell_type": "markdown",
   "metadata": {},
   "source": [
    "There are two major categories."
   ]
  },
  {
   "cell_type": "code",
   "execution_count": 257,
   "metadata": {},
   "outputs": [],
   "source": [
    "#Aggregating the data to get the top 5 sub-categories by major category to yield a clean visualization\n",
    "\n",
    "top_2_cat = products_clean[products_clean[\"CATEGORY\"].isin([\"Health & Wellness\", \"Snacks\"])]\n",
    "df_counts = top_2_cat.groupby(['CATEGORY', 'SUB-CATEGORY_1']).size().reset_index(name='count')\n",
    "df_top5 = df_counts.groupby('CATEGORY').apply(lambda x: x.nlargest(5, 'count')).reset_index(drop=True)"
   ]
  },
  {
   "cell_type": "code",
   "execution_count": 258,
   "metadata": {},
   "outputs": [
    {
     "data": {
      "image/png": "[encoded data removed]",
      "text/plain": [
       "<Figure size 720x432 with 1 Axes>"
      ]
     },
     "metadata": {
      "needs_background": "light"
     },
     "output_type": "display_data"
    }
   ],
   "source": [
    "#Bivariate analysis of sub-category 1 by the major categories\n",
    "\n",
    "plt.figure(figsize=(10, 6))\n",
    "sns.barplot(data = df_top5, x='CATEGORY', y='count', hue='SUB-CATEGORY_1', dodge=True)\n",
    "plt.title(\"Top 5 Sub-Categories per Category\")\n",
    "plt.legend(title=\"SUB-CATEGORY_1\", loc = \"upper center\")\n",
    "plt.show()"
   ]
  },
  {
   "cell_type": "markdown",
   "metadata": {},
   "source": [
    "Candy dominates the snacks category."
   ]
  },
  {
   "cell_type": "markdown",
   "metadata": {},
   "source": [
    "### Users"
   ]
  },
  {
   "cell_type": "code",
   "execution_count": 259,
   "metadata": {},
   "outputs": [
    {
     "data": {
      "image/png": "[encoded data removed]",
      "text/plain": [
       "<Figure size 720x432 with 1 Axes>"
      ]
     },
     "metadata": {
      "needs_background": "light"
     },
     "output_type": "display_data"
    }
   ],
   "source": [
    "#Univariate analysis of user creation\n",
    "\n",
    "plt.figure(figsize=(10, 6))\n",
    "users[\"CREATED_DATE\"].hist()\n",
    "plt.title(\"User Creation Date Frequency\")\n",
    "plt.show()"
   ]
  },
  {
   "cell_type": "markdown",
   "metadata": {},
   "source": [
    "New users seemed to peak in 2022."
   ]
  },
  {
   "cell_type": "code",
   "execution_count": 260,
   "metadata": {},
   "outputs": [],
   "source": [
    "#Getting user age given the birth date\n",
    "\n",
    "users['BIRTH_DATE'] = users['BIRTH_DATE'].fillna(pd.Timestamp(datetime.now().date()))\n",
    "users['AGE'] = users['BIRTH_DATE'].apply(lambda x: (datetime.now().date() - x.date()).days // 365)\n",
    "users[\"AGE\"] = users[\"AGE\"].replace(0, np.NaN)"
   ]
  },
  {
   "cell_type": "code",
   "execution_count": 261,
   "metadata": {},
   "outputs": [
    {
     "data": {
      "image/png": "[encoded data removed]",
      "text/plain": [
       "<Figure size 720x432 with 1 Axes>"
      ]
     },
     "metadata": {
      "needs_background": "light"
     },
     "output_type": "display_data"
    }
   ],
   "source": [
    "#Univariate Analysis of user age\n",
    "\n",
    "plt.figure(figsize=(10, 6))\n",
    "users[\"AGE\"].hist()\n",
    "plt.title(\"User Age Frequency\")\n",
    "plt.show()"
   ]
  },
  {
   "cell_type": "code",
   "execution_count": 262,
   "metadata": {},
   "outputs": [
    {
     "data": {
      "text/plain": [
       "(39.957622631715545, 39.0)"
      ]
     },
     "execution_count": 262,
     "metadata": {},
     "output_type": "execute_result"
    }
   ],
   "source": [
    "users[\"AGE\"].mean(), users[\"AGE\"].median()"
   ]
  },
  {
   "cell_type": "markdown",
   "metadata": {},
   "source": [
    "The age of users follows a slightly right-skewed with an average of 40 years old., as very few users are under 18 years old.  Many generations will be represented for closed question 3 in part 2."
   ]
  },
  {
   "cell_type": "code",
   "execution_count": 263,
   "metadata": {},
   "outputs": [
    {
     "data": {
      "text/plain": [
       "female                    64240\n",
       "male                      25829\n",
       "Unknown                    5892\n",
       "transgender                1772\n",
       "prefer_not_to_say          1350\n",
       "non_binary                  473\n",
       "unknown                     196\n",
       "not_listed                  180\n",
       "Non-Binary                   34\n",
       "not_specified                28\n",
       "My gender isn't listed        5\n",
       "Prefer not to say             1\n",
       "Name: GENDER, dtype: int64"
      ]
     },
     "execution_count": 263,
     "metadata": {},
     "output_type": "execute_result"
    }
   ],
   "source": [
    "#Univariate analysis of gender\n",
    "\n",
    "users[\"GENDER\"].value_counts()"
   ]
  },
  {
   "cell_type": "code",
   "execution_count": 264,
   "metadata": {},
   "outputs": [
    {
     "data": {
      "text/plain": [
       "GENDER\n",
       "My gender isn't listed    31.400000\n",
       "Non-Binary                30.500000\n",
       "Prefer not to say         42.000000\n",
       "Unknown                   49.140550\n",
       "female                    41.202390\n",
       "male                      36.720470\n",
       "non_binary                29.600423\n",
       "not_listed                32.677778\n",
       "not_specified             35.785714\n",
       "prefer_not_to_say         36.227745\n",
       "transgender               37.419865\n",
       "unknown                   33.841837\n",
       "Name: AGE, dtype: float64"
      ]
     },
     "execution_count": 264,
     "metadata": {},
     "output_type": "execute_result"
    }
   ],
   "source": [
    "#Bivariate analysis of user age and gender\n",
    "\n",
    "users.groupby(\"GENDER\").mean()[\"AGE\"]"
   ]
  },
  {
   "cell_type": "markdown",
   "metadata": {},
   "source": [
    "Female users tend to be older than male users."
   ]
  },
  {
   "cell_type": "markdown",
   "metadata": {},
   "source": [
    "### Transactions"
   ]
  },
  {
   "cell_type": "code",
   "execution_count": 265,
   "metadata": {},
   "outputs": [
    {
     "data": {
      "image/png": "[encoded data removed]",
      "text/plain": [
       "<Figure size 720x432 with 1 Axes>"
      ]
     },
     "metadata": {
      "needs_background": "light"
     },
     "output_type": "display_data"
    }
   ],
   "source": [
    "#Univariate analysis of final sale\n",
    "\n",
    "plt.figure(figsize=(10, 6))\n",
    "transactions[\"FINAL_SALE\"].hist(bins = 50)\n",
    "plt.title(\"Final Sale Frequency\")\n",
    "plt.show()"
   ]
  },
  {
   "cell_type": "code",
   "execution_count": 266,
   "metadata": {},
   "outputs": [
    {
     "data": {
      "text/plain": [
       "(4.576384000000174, 3.0)"
      ]
     },
     "execution_count": 266,
     "metadata": {},
     "output_type": "execute_result"
    }
   ],
   "source": [
    "transactions[\"FINAL_SALE\"].mean(), transactions[\"FINAL_SALE\"].median()"
   ]
  },
  {
   "cell_type": "markdown",
   "metadata": {},
   "source": [
    "The final sale variable is very right skewed and the average is strangely small for the context of the data."
   ]
  },
  {
   "cell_type": "code",
   "execution_count": 267,
   "metadata": {},
   "outputs": [
    {
     "data": {
      "image/png": "[encoded data removed]",
      "text/plain": [
       "<Figure size 720x432 with 1 Axes>"
      ]
     },
     "metadata": {
      "needs_background": "light"
     },
     "output_type": "display_data"
    }
   ],
   "source": [
    "#Univariate analysis of purchase date\n",
    "\n",
    "plt.figure(figsize=(10, 6))\n",
    "transactions[\"PURCHASE_DATE\"].hist(bins = 50)\n",
    "plt.title(\"Purchase Date Frequency\")\n",
    "plt.show()"
   ]
  },
  {
   "cell_type": "code",
   "execution_count": 268,
   "metadata": {},
   "outputs": [
    {
     "data": {
      "image/png": "[encoded data removed]",
      "text/plain": [
       "<Figure size 720x432 with 1 Axes>"
      ]
     },
     "metadata": {
      "needs_background": "light"
     },
     "output_type": "display_data"
    }
   ],
   "source": [
    "#Univariate analysis of scan date\n",
    "\n",
    "plt.figure(figsize=(10, 6))\n",
    "transactions[\"SCAN_DATE\"].hist(bins = 50)\n",
    "plt.title(\"Scan Date Frequency\")\n",
    "plt.show()"
   ]
  },
  {
   "cell_type": "markdown",
   "metadata": {},
   "source": [
    "The transaction data only covers 2024 (which makes sense considering the data seems to be a sample of exactly 50k rows).  There are strange oscillations in the data which may be worth exploring (weekends?)."
   ]
  }
 ],
 "metadata": {
  "kernelspec": {
   "display_name": "Python 3.9.12 ('base')",
   "language": "python",
   "name": "python3"
  },
  "language_info": {
   "codemirror_mode": {
    "name": "ipython",
    "version": 3
   },
   "file_extension": ".py",
   "mimetype": "text/x-python",
   "name": "python",
   "nbconvert_exporter": "python",
   "pygments_lexer": "ipython3",
   "version": "3.9.12"
  },
  "orig_nbformat": 4,
  "vscode": {
   "interpreter": {
    "hash": "814df6786c84b1657b95a7de14d50f077192a08da6a49754b12bf1118c95f144"
   }
  }
 },
 "nbformat": 4,
 "nbformat_minor": 2
}
