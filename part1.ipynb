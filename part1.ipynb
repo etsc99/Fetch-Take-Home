{
 "cells": [
  {
   "cell_type": "markdown",
   "metadata": {},
   "source": [
    "# Part 1: Exploring the Data"
   ]
  },
  {
   "cell_type": "code",
   "execution_count": 1,
   "metadata": {},
   "outputs": [],
   "source": [
    "import numpy as np\n",
    "import pandas as pd\n",
    "import matplotlib.pyplot as plt\n",
    "import seaborn as sns"
   ]
  },
  {
   "cell_type": "markdown",
   "metadata": {},
   "source": [
    "## Data Import and Eximanation"
   ]
  },
  {
   "cell_type": "markdown",
   "metadata": {},
   "source": [
    "First, I'll import the data and quickly examine the columns and their types, as well as understanding what the data looks like.  For any possible data quality issues, I will dive in deeper to the variables which I feel present issues."
   ]
  },
  {
   "cell_type": "code",
   "execution_count": 55,
   "metadata": {},
   "outputs": [],
   "source": [
    "products = pd.read_csv(\"PRODUCTS_TAKEHOME.csv\")\n",
    "\n",
    "#Converting the barcode to an object\n",
    "\n",
    "products[\"BARCODE\"] = products[\"BARCODE\"].astype(\"Int64\").astype(str)\n",
    "products[\"BARCODE\"] = products[\"BARCODE\"].replace(\"<NA>\", np.NaN)"
   ]
  },
  {
   "cell_type": "code",
   "execution_count": null,
   "metadata": {},
   "outputs": [],
   "source": [
    "users = pd.read_csv(\"USER_TAKEHOME.csv\")"
   ]
  },
  {
   "cell_type": "code",
   "execution_count": 64,
   "metadata": {},
   "outputs": [],
   "source": [
    "transactions = pd.read_csv(\"TRANSACTION_TAKEHOME.csv\")\n",
    "\n",
    "#Converting the barcode to an object\n",
    "\n",
    "transactions[\"BARCODE\"] = transactions[\"BARCODE\"].astype(\"Int64\").astype(str)\n",
    "transactions[\"BARCODE\"] = transactions[\"BARCODE\"].replace(\"<NA>\", np.NaN)"
   ]
  },
  {
   "cell_type": "markdown",
   "metadata": {},
   "source": [
    "### Products"
   ]
  },
  {
   "cell_type": "code",
   "execution_count": 57,
   "metadata": {},
   "outputs": [
    {
     "data": {
      "text/html": [
       "<div>\n",
       "<style scoped>\n",
       "    .dataframe tbody tr th:only-of-type {\n",
       "        vertical-align: middle;\n",
       "    }\n",
       "\n",
       "    .dataframe tbody tr th {\n",
       "        vertical-align: top;\n",
       "    }\n",
       "\n",
       "    .dataframe thead th {\n",
       "        text-align: right;\n",
       "    }\n",
       "</style>\n",
       "<table border=\"1\" class=\"dataframe\">\n",
       "  <thead>\n",
       "    <tr style=\"text-align: right;\">\n",
       "      <th></th>\n",
       "      <th>CATEGORY_1</th>\n",
       "      <th>CATEGORY_2</th>\n",
       "      <th>CATEGORY_3</th>\n",
       "      <th>CATEGORY_4</th>\n",
       "      <th>MANUFACTURER</th>\n",
       "      <th>BRAND</th>\n",
       "      <th>BARCODE</th>\n",
       "    </tr>\n",
       "  </thead>\n",
       "  <tbody>\n",
       "    <tr>\n",
       "      <th>822812</th>\n",
       "      <td>Health &amp; Wellness</td>\n",
       "      <td>Medicines &amp; Treatments</td>\n",
       "      <td>Essential Oils</td>\n",
       "      <td>NaN</td>\n",
       "      <td>PLANT THERAPY ESSENTIAL OILS</td>\n",
       "      <td>PLANT THERAPY</td>\n",
       "      <td>680912012928</td>\n",
       "    </tr>\n",
       "    <tr>\n",
       "      <th>790568</th>\n",
       "      <td>Health &amp; Wellness</td>\n",
       "      <td>Bath &amp; Body</td>\n",
       "      <td>Hand Sanitizer Wipes</td>\n",
       "      <td>NaN</td>\n",
       "      <td>TOPCO ASSOCIATES LLC</td>\n",
       "      <td>WESTERN FAMILY</td>\n",
       "      <td>15400072656</td>\n",
       "    </tr>\n",
       "    <tr>\n",
       "      <th>534401</th>\n",
       "      <td>Health &amp; Wellness</td>\n",
       "      <td>Hair Removal</td>\n",
       "      <td>Razors</td>\n",
       "      <td>Men's Razors</td>\n",
       "      <td>PLACEHOLDER MANUFACTURER</td>\n",
       "      <td>BRAND NOT KNOWN</td>\n",
       "      <td>791383507520</td>\n",
       "    </tr>\n",
       "    <tr>\n",
       "      <th>420442</th>\n",
       "      <td>Health &amp; Wellness</td>\n",
       "      <td>Bath &amp; Body</td>\n",
       "      <td>Bath Additives</td>\n",
       "      <td>NaN</td>\n",
       "      <td>REM MANUFACTURER</td>\n",
       "      <td>REM BRAND</td>\n",
       "      <td>10879700277</td>\n",
       "    </tr>\n",
       "    <tr>\n",
       "      <th>795623</th>\n",
       "      <td>Snacks</td>\n",
       "      <td>Candy</td>\n",
       "      <td>Confection Candy</td>\n",
       "      <td>NaN</td>\n",
       "      <td>ALBANESE CONFECTIONERY GROUP, INC.</td>\n",
       "      <td>ALBANESE</td>\n",
       "      <td>634418524805</td>\n",
       "    </tr>\n",
       "  </tbody>\n",
       "</table>\n",
       "</div>"
      ],
      "text/plain": [
       "               CATEGORY_1              CATEGORY_2            CATEGORY_3  \\\n",
       "822812  Health & Wellness  Medicines & Treatments        Essential Oils   \n",
       "790568  Health & Wellness             Bath & Body  Hand Sanitizer Wipes   \n",
       "534401  Health & Wellness            Hair Removal                Razors   \n",
       "420442  Health & Wellness             Bath & Body        Bath Additives   \n",
       "795623             Snacks                   Candy      Confection Candy   \n",
       "\n",
       "          CATEGORY_4                        MANUFACTURER            BRAND  \\\n",
       "822812           NaN        PLANT THERAPY ESSENTIAL OILS    PLANT THERAPY   \n",
       "790568           NaN                TOPCO ASSOCIATES LLC   WESTERN FAMILY   \n",
       "534401  Men's Razors            PLACEHOLDER MANUFACTURER  BRAND NOT KNOWN   \n",
       "420442           NaN                    REM MANUFACTURER        REM BRAND   \n",
       "795623           NaN  ALBANESE CONFECTIONERY GROUP, INC.         ALBANESE   \n",
       "\n",
       "             BARCODE  \n",
       "822812  680912012928  \n",
       "790568   15400072656  \n",
       "534401  791383507520  \n",
       "420442   10879700277  \n",
       "795623  634418524805  "
      ]
     },
     "execution_count": 57,
     "metadata": {},
     "output_type": "execute_result"
    }
   ],
   "source": [
    "products.sample(5)"
   ]
  },
  {
   "cell_type": "code",
   "execution_count": 58,
   "metadata": {},
   "outputs": [
    {
     "name": "stdout",
     "output_type": "stream",
     "text": [
      "<class 'pandas.core.frame.DataFrame'>\n",
      "RangeIndex: 845552 entries, 0 to 845551\n",
      "Data columns (total 7 columns):\n",
      " #   Column        Non-Null Count   Dtype \n",
      "---  ------        --------------   ----- \n",
      " 0   CATEGORY_1    845441 non-null  object\n",
      " 1   CATEGORY_2    844128 non-null  object\n",
      " 2   CATEGORY_3    784986 non-null  object\n",
      " 3   CATEGORY_4    67459 non-null   object\n",
      " 4   MANUFACTURER  619078 non-null  object\n",
      " 5   BRAND         619080 non-null  object\n",
      " 6   BARCODE       841527 non-null  object\n",
      "dtypes: object(7)\n",
      "memory usage: 45.2+ MB\n"
     ]
    }
   ],
   "source": [
    "products.info()"
   ]
  },
  {
   "cell_type": "code",
   "execution_count": 68,
   "metadata": {},
   "outputs": [
    {
     "data": {
      "text/plain": [
       "False"
      ]
     },
     "execution_count": 68,
     "metadata": {},
     "output_type": "execute_result"
    }
   ],
   "source": [
    "#Checking if each barcode in products is unique (it should be as the primary key)\n",
    "\n",
    "len(products) == products[\"BARCODE\"].nunique()"
   ]
  },
  {
   "cell_type": "code",
   "execution_count": 71,
   "metadata": {},
   "outputs": [
    {
     "data": {
      "text/html": [
       "<div>\n",
       "<style scoped>\n",
       "    .dataframe tbody tr th:only-of-type {\n",
       "        vertical-align: middle;\n",
       "    }\n",
       "\n",
       "    .dataframe tbody tr th {\n",
       "        vertical-align: top;\n",
       "    }\n",
       "\n",
       "    .dataframe thead th {\n",
       "        text-align: right;\n",
       "    }\n",
       "</style>\n",
       "<table border=\"1\" class=\"dataframe\">\n",
       "  <thead>\n",
       "    <tr style=\"text-align: right;\">\n",
       "      <th></th>\n",
       "      <th>CATEGORY_1</th>\n",
       "      <th>CATEGORY_2</th>\n",
       "      <th>CATEGORY_3</th>\n",
       "      <th>CATEGORY_4</th>\n",
       "      <th>MANUFACTURER</th>\n",
       "      <th>BRAND</th>\n",
       "      <th>BARCODE</th>\n",
       "    </tr>\n",
       "  </thead>\n",
       "  <tbody>\n",
       "    <tr>\n",
       "      <th>612573</th>\n",
       "      <td>Snacks</td>\n",
       "      <td>Candy</td>\n",
       "      <td>Chocolate Candy</td>\n",
       "      <td>NaN</td>\n",
       "      <td>THE HERSHEY COMPANY</td>\n",
       "      <td>HERSHEY'S</td>\n",
       "      <td>3423905</td>\n",
       "    </tr>\n",
       "    <tr>\n",
       "      <th>827242</th>\n",
       "      <td>Snacks</td>\n",
       "      <td>Candy</td>\n",
       "      <td>Chocolate Candy</td>\n",
       "      <td>NaN</td>\n",
       "      <td>THE HERSHEY COMPANY</td>\n",
       "      <td>HERSHEY'S</td>\n",
       "      <td>3423905</td>\n",
       "    </tr>\n",
       "  </tbody>\n",
       "</table>\n",
       "</div>"
      ],
      "text/plain": [
       "       CATEGORY_1 CATEGORY_2       CATEGORY_3 CATEGORY_4         MANUFACTURER  \\\n",
       "612573     Snacks      Candy  Chocolate Candy        NaN  THE HERSHEY COMPANY   \n",
       "827242     Snacks      Candy  Chocolate Candy        NaN  THE HERSHEY COMPANY   \n",
       "\n",
       "            BRAND  BARCODE  \n",
       "612573  HERSHEY'S  3423905  \n",
       "827242  HERSHEY'S  3423905  "
      ]
     },
     "execution_count": 71,
     "metadata": {},
     "output_type": "execute_result"
    }
   ],
   "source": [
    "#Example of a duplicate row\n",
    "\n",
    "products[products[\"BARCODE\"] == products[\"BARCODE\"].value_counts().index[0]]"
   ]
  },
  {
   "cell_type": "code",
   "execution_count": 72,
   "metadata": {},
   "outputs": [
    {
     "data": {
      "text/html": [
       "<div>\n",
       "<style scoped>\n",
       "    .dataframe tbody tr th:only-of-type {\n",
       "        vertical-align: middle;\n",
       "    }\n",
       "\n",
       "    .dataframe tbody tr th {\n",
       "        vertical-align: top;\n",
       "    }\n",
       "\n",
       "    .dataframe thead th {\n",
       "        text-align: right;\n",
       "    }\n",
       "</style>\n",
       "<table border=\"1\" class=\"dataframe\">\n",
       "  <thead>\n",
       "    <tr style=\"text-align: right;\">\n",
       "      <th></th>\n",
       "      <th>CATEGORY_1</th>\n",
       "      <th>CATEGORY_2</th>\n",
       "      <th>CATEGORY_3</th>\n",
       "      <th>CATEGORY_4</th>\n",
       "      <th>MANUFACTURER</th>\n",
       "      <th>BRAND</th>\n",
       "      <th>BARCODE</th>\n",
       "    </tr>\n",
       "  </thead>\n",
       "  <tbody>\n",
       "    <tr>\n",
       "      <th>216314</th>\n",
       "      <td>Snacks</td>\n",
       "      <td>Candy</td>\n",
       "      <td>Chocolate Candy</td>\n",
       "      <td>NaN</td>\n",
       "      <td>FERRERO GROUP</td>\n",
       "      <td>KINDER</td>\n",
       "      <td>80310167</td>\n",
       "    </tr>\n",
       "    <tr>\n",
       "      <th>585634</th>\n",
       "      <td>Snacks</td>\n",
       "      <td>Candy</td>\n",
       "      <td>Chocolate Candy</td>\n",
       "      <td>NaN</td>\n",
       "      <td>KINDER'S</td>\n",
       "      <td>KINDER'S</td>\n",
       "      <td>80310167</td>\n",
       "    </tr>\n",
       "  </tbody>\n",
       "</table>\n",
       "</div>"
      ],
      "text/plain": [
       "       CATEGORY_1 CATEGORY_2       CATEGORY_3 CATEGORY_4   MANUFACTURER  \\\n",
       "216314     Snacks      Candy  Chocolate Candy        NaN  FERRERO GROUP   \n",
       "585634     Snacks      Candy  Chocolate Candy        NaN       KINDER'S   \n",
       "\n",
       "           BRAND   BARCODE  \n",
       "216314    KINDER  80310167  \n",
       "585634  KINDER'S  80310167  "
      ]
     },
     "execution_count": 72,
     "metadata": {},
     "output_type": "execute_result"
    }
   ],
   "source": [
    "#Example of a duplicate barcode without an entire duplicate row\n",
    "\n",
    "products[products[\"BARCODE\"] == products.drop_duplicates()[\"BARCODE\"].value_counts().index[0]]"
   ]
  },
  {
   "cell_type": "markdown",
   "metadata": {},
   "source": [
    "### Users"
   ]
  },
  {
   "cell_type": "code",
   "execution_count": 5,
   "metadata": {},
   "outputs": [
    {
     "data": {
      "text/html": [
       "<div>\n",
       "<style scoped>\n",
       "    .dataframe tbody tr th:only-of-type {\n",
       "        vertical-align: middle;\n",
       "    }\n",
       "\n",
       "    .dataframe tbody tr th {\n",
       "        vertical-align: top;\n",
       "    }\n",
       "\n",
       "    .dataframe thead th {\n",
       "        text-align: right;\n",
       "    }\n",
       "</style>\n",
       "<table border=\"1\" class=\"dataframe\">\n",
       "  <thead>\n",
       "    <tr style=\"text-align: right;\">\n",
       "      <th></th>\n",
       "      <th>ID</th>\n",
       "      <th>CREATED_DATE</th>\n",
       "      <th>BIRTH_DATE</th>\n",
       "      <th>STATE</th>\n",
       "      <th>LANGUAGE</th>\n",
       "      <th>GENDER</th>\n",
       "    </tr>\n",
       "  </thead>\n",
       "  <tbody>\n",
       "    <tr>\n",
       "      <th>0</th>\n",
       "      <td>5ef3b4f17053ab141787697d</td>\n",
       "      <td>2020-06-24 20:17:54.000 Z</td>\n",
       "      <td>2000-08-11 00:00:00.000 Z</td>\n",
       "      <td>CA</td>\n",
       "      <td>es-419</td>\n",
       "      <td>female</td>\n",
       "    </tr>\n",
       "    <tr>\n",
       "      <th>1</th>\n",
       "      <td>5ff220d383fcfc12622b96bc</td>\n",
       "      <td>2021-01-03 19:53:55.000 Z</td>\n",
       "      <td>2001-09-24 04:00:00.000 Z</td>\n",
       "      <td>PA</td>\n",
       "      <td>en</td>\n",
       "      <td>female</td>\n",
       "    </tr>\n",
       "    <tr>\n",
       "      <th>2</th>\n",
       "      <td>6477950aa55bb77a0e27ee10</td>\n",
       "      <td>2023-05-31 18:42:18.000 Z</td>\n",
       "      <td>1994-10-28 00:00:00.000 Z</td>\n",
       "      <td>FL</td>\n",
       "      <td>es-419</td>\n",
       "      <td>female</td>\n",
       "    </tr>\n",
       "    <tr>\n",
       "      <th>3</th>\n",
       "      <td>658a306e99b40f103b63ccf8</td>\n",
       "      <td>2023-12-26 01:46:22.000 Z</td>\n",
       "      <td>NaN</td>\n",
       "      <td>NC</td>\n",
       "      <td>en</td>\n",
       "      <td>NaN</td>\n",
       "    </tr>\n",
       "    <tr>\n",
       "      <th>4</th>\n",
       "      <td>653cf5d6a225ea102b7ecdc2</td>\n",
       "      <td>2023-10-28 11:51:50.000 Z</td>\n",
       "      <td>1972-03-19 00:00:00.000 Z</td>\n",
       "      <td>PA</td>\n",
       "      <td>en</td>\n",
       "      <td>female</td>\n",
       "    </tr>\n",
       "  </tbody>\n",
       "</table>\n",
       "</div>"
      ],
      "text/plain": [
       "                         ID               CREATED_DATE  \\\n",
       "0  5ef3b4f17053ab141787697d  2020-06-24 20:17:54.000 Z   \n",
       "1  5ff220d383fcfc12622b96bc  2021-01-03 19:53:55.000 Z   \n",
       "2  6477950aa55bb77a0e27ee10  2023-05-31 18:42:18.000 Z   \n",
       "3  658a306e99b40f103b63ccf8  2023-12-26 01:46:22.000 Z   \n",
       "4  653cf5d6a225ea102b7ecdc2  2023-10-28 11:51:50.000 Z   \n",
       "\n",
       "                  BIRTH_DATE STATE LANGUAGE  GENDER  \n",
       "0  2000-08-11 00:00:00.000 Z    CA   es-419  female  \n",
       "1  2001-09-24 04:00:00.000 Z    PA       en  female  \n",
       "2  1994-10-28 00:00:00.000 Z    FL   es-419  female  \n",
       "3                        NaN    NC       en     NaN  \n",
       "4  1972-03-19 00:00:00.000 Z    PA       en  female  "
      ]
     },
     "execution_count": 5,
     "metadata": {},
     "output_type": "execute_result"
    }
   ],
   "source": [
    "users.sample(5)"
   ]
  },
  {
   "cell_type": "code",
   "execution_count": 8,
   "metadata": {},
   "outputs": [
    {
     "name": "stdout",
     "output_type": "stream",
     "text": [
      "<class 'pandas.core.frame.DataFrame'>\n",
      "RangeIndex: 100000 entries, 0 to 99999\n",
      "Data columns (total 6 columns):\n",
      " #   Column        Non-Null Count   Dtype \n",
      "---  ------        --------------   ----- \n",
      " 0   ID            100000 non-null  object\n",
      " 1   CREATED_DATE  100000 non-null  object\n",
      " 2   BIRTH_DATE    96325 non-null   object\n",
      " 3   STATE         95188 non-null   object\n",
      " 4   LANGUAGE      69492 non-null   object\n",
      " 5   GENDER        94108 non-null   object\n",
      "dtypes: object(6)\n",
      "memory usage: 4.6+ MB\n"
     ]
    }
   ],
   "source": [
    "users.info()"
   ]
  },
  {
   "cell_type": "code",
   "execution_count": 67,
   "metadata": {},
   "outputs": [
    {
     "data": {
      "text/plain": [
       "True"
      ]
     },
     "execution_count": 67,
     "metadata": {},
     "output_type": "execute_result"
    }
   ],
   "source": [
    "#Checking if each id in users is unique (it should be as the primary key)\n",
    "\n",
    "len(users) == users[\"ID\"].nunique()"
   ]
  },
  {
   "cell_type": "markdown",
   "metadata": {},
   "source": [
    "### Transactions"
   ]
  },
  {
   "cell_type": "code",
   "execution_count": 11,
   "metadata": {},
   "outputs": [
    {
     "data": {
      "text/html": [
       "<div>\n",
       "<style scoped>\n",
       "    .dataframe tbody tr th:only-of-type {\n",
       "        vertical-align: middle;\n",
       "    }\n",
       "\n",
       "    .dataframe tbody tr th {\n",
       "        vertical-align: top;\n",
       "    }\n",
       "\n",
       "    .dataframe thead th {\n",
       "        text-align: right;\n",
       "    }\n",
       "</style>\n",
       "<table border=\"1\" class=\"dataframe\">\n",
       "  <thead>\n",
       "    <tr style=\"text-align: right;\">\n",
       "      <th></th>\n",
       "      <th>RECEIPT_ID</th>\n",
       "      <th>PURCHASE_DATE</th>\n",
       "      <th>SCAN_DATE</th>\n",
       "      <th>STORE_NAME</th>\n",
       "      <th>USER_ID</th>\n",
       "      <th>BARCODE</th>\n",
       "      <th>FINAL_QUANTITY</th>\n",
       "      <th>FINAL_SALE</th>\n",
       "    </tr>\n",
       "  </thead>\n",
       "  <tbody>\n",
       "    <tr>\n",
       "      <th>45361</th>\n",
       "      <td>1133aa89-9bc4-4a9f-a9a4-73e8bfb2fb43</td>\n",
       "      <td>2024-06-16</td>\n",
       "      <td>2024-06-16 13:47:40.174 Z</td>\n",
       "      <td>WALMART</td>\n",
       "      <td>62194152c7ae4d3233ef721c</td>\n",
       "      <td>1.342100e+10</td>\n",
       "      <td>1.00</td>\n",
       "      <td>2.97</td>\n",
       "    </tr>\n",
       "    <tr>\n",
       "      <th>32109</th>\n",
       "      <td>6407e902-dd04-40dd-8a19-5bf628c6f1d2</td>\n",
       "      <td>2024-07-03</td>\n",
       "      <td>2024-07-04 09:44:24.819 Z</td>\n",
       "      <td>SAM'S CLUB</td>\n",
       "      <td>62c6411db79924d29cc083e0</td>\n",
       "      <td>1.600043e+10</td>\n",
       "      <td>1.00</td>\n",
       "      <td>7.70</td>\n",
       "    </tr>\n",
       "    <tr>\n",
       "      <th>13103</th>\n",
       "      <td>86c83bef-5019-4587-9b06-165c12c2888a</td>\n",
       "      <td>2024-09-02</td>\n",
       "      <td>2024-09-02 12:43:55.036 Z</td>\n",
       "      <td>WALMART</td>\n",
       "      <td>5f7400c5d79e8f16ad9962f2</td>\n",
       "      <td>2.240064e+10</td>\n",
       "      <td>zero</td>\n",
       "      <td>1.97</td>\n",
       "    </tr>\n",
       "    <tr>\n",
       "      <th>6622</th>\n",
       "      <td>43955b35-6fbc-4909-a4de-1a0de0dc387f</td>\n",
       "      <td>2024-09-06</td>\n",
       "      <td>2024-09-08 18:32:30.031 Z</td>\n",
       "      <td>WALMART</td>\n",
       "      <td>625364ddda4fb11c8a9fcb85</td>\n",
       "      <td>3.716877e+11</td>\n",
       "      <td>1.00</td>\n",
       "      <td></td>\n",
       "    </tr>\n",
       "    <tr>\n",
       "      <th>7703</th>\n",
       "      <td>4f29845d-4b00-496f-998f-5167b87beb1a</td>\n",
       "      <td>2024-08-23</td>\n",
       "      <td>2024-08-23 22:03:10.351 Z</td>\n",
       "      <td>WALMART</td>\n",
       "      <td>5d6b4e9cd09cf73c7b821688</td>\n",
       "      <td>7.874222e+10</td>\n",
       "      <td>zero</td>\n",
       "      <td>2.68</td>\n",
       "    </tr>\n",
       "  </tbody>\n",
       "</table>\n",
       "</div>"
      ],
      "text/plain": [
       "                                 RECEIPT_ID PURCHASE_DATE  \\\n",
       "45361  1133aa89-9bc4-4a9f-a9a4-73e8bfb2fb43    2024-06-16   \n",
       "32109  6407e902-dd04-40dd-8a19-5bf628c6f1d2    2024-07-03   \n",
       "13103  86c83bef-5019-4587-9b06-165c12c2888a    2024-09-02   \n",
       "6622   43955b35-6fbc-4909-a4de-1a0de0dc387f    2024-09-06   \n",
       "7703   4f29845d-4b00-496f-998f-5167b87beb1a    2024-08-23   \n",
       "\n",
       "                       SCAN_DATE  STORE_NAME                   USER_ID  \\\n",
       "45361  2024-06-16 13:47:40.174 Z     WALMART  62194152c7ae4d3233ef721c   \n",
       "32109  2024-07-04 09:44:24.819 Z  SAM'S CLUB  62c6411db79924d29cc083e0   \n",
       "13103  2024-09-02 12:43:55.036 Z     WALMART  5f7400c5d79e8f16ad9962f2   \n",
       "6622   2024-09-08 18:32:30.031 Z     WALMART  625364ddda4fb11c8a9fcb85   \n",
       "7703   2024-08-23 22:03:10.351 Z     WALMART  5d6b4e9cd09cf73c7b821688   \n",
       "\n",
       "            BARCODE FINAL_QUANTITY FINAL_SALE  \n",
       "45361  1.342100e+10           1.00       2.97  \n",
       "32109  1.600043e+10           1.00       7.70  \n",
       "13103  2.240064e+10           zero       1.97  \n",
       "6622   3.716877e+11           1.00             \n",
       "7703   7.874222e+10           zero       2.68  "
      ]
     },
     "execution_count": 11,
     "metadata": {},
     "output_type": "execute_result"
    }
   ],
   "source": [
    "transactions.sample(5)"
   ]
  },
  {
   "cell_type": "code",
   "execution_count": 9,
   "metadata": {},
   "outputs": [
    {
     "name": "stdout",
     "output_type": "stream",
     "text": [
      "<class 'pandas.core.frame.DataFrame'>\n",
      "RangeIndex: 50000 entries, 0 to 49999\n",
      "Data columns (total 8 columns):\n",
      " #   Column          Non-Null Count  Dtype  \n",
      "---  ------          --------------  -----  \n",
      " 0   RECEIPT_ID      50000 non-null  object \n",
      " 1   PURCHASE_DATE   50000 non-null  object \n",
      " 2   SCAN_DATE       50000 non-null  object \n",
      " 3   STORE_NAME      50000 non-null  object \n",
      " 4   USER_ID         50000 non-null  object \n",
      " 5   BARCODE         44238 non-null  float64\n",
      " 6   FINAL_QUANTITY  50000 non-null  object \n",
      " 7   FINAL_SALE      50000 non-null  object \n",
      "dtypes: float64(1), object(7)\n",
      "memory usage: 3.1+ MB\n"
     ]
    }
   ],
   "source": [
    "transactions.info()"
   ]
  },
  {
   "cell_type": "code",
   "execution_count": 73,
   "metadata": {},
   "outputs": [
    {
     "data": {
      "text/plain": [
       "False"
      ]
     },
     "execution_count": 73,
     "metadata": {},
     "output_type": "execute_result"
    }
   ],
   "source": [
    "#Checking if each receipt id is unique\n",
    "\n",
    "len(transactions) == transactions[\"RECEIPT_ID\"].nunique()"
   ]
  },
  {
   "cell_type": "code",
   "execution_count": 81,
   "metadata": {},
   "outputs": [
    {
     "data": {
      "text/html": [
       "<div>\n",
       "<style scoped>\n",
       "    .dataframe tbody tr th:only-of-type {\n",
       "        vertical-align: middle;\n",
       "    }\n",
       "\n",
       "    .dataframe tbody tr th {\n",
       "        vertical-align: top;\n",
       "    }\n",
       "\n",
       "    .dataframe thead th {\n",
       "        text-align: right;\n",
       "    }\n",
       "</style>\n",
       "<table border=\"1\" class=\"dataframe\">\n",
       "  <thead>\n",
       "    <tr style=\"text-align: right;\">\n",
       "      <th></th>\n",
       "      <th>RECEIPT_ID</th>\n",
       "      <th>PURCHASE_DATE</th>\n",
       "      <th>SCAN_DATE</th>\n",
       "      <th>STORE_NAME</th>\n",
       "      <th>USER_ID</th>\n",
       "      <th>BARCODE</th>\n",
       "      <th>FINAL_QUANTITY</th>\n",
       "      <th>FINAL_SALE</th>\n",
       "    </tr>\n",
       "  </thead>\n",
       "  <tbody>\n",
       "    <tr>\n",
       "      <th>18637</th>\n",
       "      <td>bedac253-2256-461b-96af-267748e6cecf</td>\n",
       "      <td>2024-09-08</td>\n",
       "      <td>2024-09-08 20:00:42.348 Z</td>\n",
       "      <td>KROGER</td>\n",
       "      <td>614f7e8081627974a57c8a9e</td>\n",
       "      <td>11110121141</td>\n",
       "      <td>zero</td>\n",
       "      <td>0.89</td>\n",
       "    </tr>\n",
       "    <tr>\n",
       "      <th>18638</th>\n",
       "      <td>bedac253-2256-461b-96af-267748e6cecf</td>\n",
       "      <td>2024-09-08</td>\n",
       "      <td>2024-09-08 20:00:42.348 Z</td>\n",
       "      <td>KROGER</td>\n",
       "      <td>614f7e8081627974a57c8a9e</td>\n",
       "      <td>11110121141</td>\n",
       "      <td>1.00</td>\n",
       "      <td></td>\n",
       "    </tr>\n",
       "    <tr>\n",
       "      <th>18639</th>\n",
       "      <td>bedac253-2256-461b-96af-267748e6cecf</td>\n",
       "      <td>2024-09-08</td>\n",
       "      <td>2024-09-08 20:00:42.348 Z</td>\n",
       "      <td>KROGER</td>\n",
       "      <td>614f7e8081627974a57c8a9e</td>\n",
       "      <td>11110121141</td>\n",
       "      <td>zero</td>\n",
       "      <td>0.89</td>\n",
       "    </tr>\n",
       "    <tr>\n",
       "      <th>18640</th>\n",
       "      <td>bedac253-2256-461b-96af-267748e6cecf</td>\n",
       "      <td>2024-09-08</td>\n",
       "      <td>2024-09-08 20:00:42.348 Z</td>\n",
       "      <td>KROGER</td>\n",
       "      <td>614f7e8081627974a57c8a9e</td>\n",
       "      <td>11110121141</td>\n",
       "      <td>1.00</td>\n",
       "      <td></td>\n",
       "    </tr>\n",
       "    <tr>\n",
       "      <th>18641</th>\n",
       "      <td>bedac253-2256-461b-96af-267748e6cecf</td>\n",
       "      <td>2024-09-08</td>\n",
       "      <td>2024-09-08 20:00:42.348 Z</td>\n",
       "      <td>KROGER</td>\n",
       "      <td>614f7e8081627974a57c8a9e</td>\n",
       "      <td>11110121141</td>\n",
       "      <td>zero</td>\n",
       "      <td>0.89</td>\n",
       "    </tr>\n",
       "    <tr>\n",
       "      <th>18642</th>\n",
       "      <td>bedac253-2256-461b-96af-267748e6cecf</td>\n",
       "      <td>2024-09-08</td>\n",
       "      <td>2024-09-08 20:00:42.348 Z</td>\n",
       "      <td>KROGER</td>\n",
       "      <td>614f7e8081627974a57c8a9e</td>\n",
       "      <td>11110121141</td>\n",
       "      <td>1.00</td>\n",
       "      <td></td>\n",
       "    </tr>\n",
       "    <tr>\n",
       "      <th>39703</th>\n",
       "      <td>bedac253-2256-461b-96af-267748e6cecf</td>\n",
       "      <td>2024-09-08</td>\n",
       "      <td>2024-09-08 20:00:42.348 Z</td>\n",
       "      <td>KROGER</td>\n",
       "      <td>614f7e8081627974a57c8a9e</td>\n",
       "      <td>11110121141</td>\n",
       "      <td>1.00</td>\n",
       "      <td>0.89</td>\n",
       "    </tr>\n",
       "    <tr>\n",
       "      <th>39704</th>\n",
       "      <td>bedac253-2256-461b-96af-267748e6cecf</td>\n",
       "      <td>2024-09-08</td>\n",
       "      <td>2024-09-08 20:00:42.348 Z</td>\n",
       "      <td>KROGER</td>\n",
       "      <td>614f7e8081627974a57c8a9e</td>\n",
       "      <td>11110121141</td>\n",
       "      <td>1.00</td>\n",
       "      <td>0.89</td>\n",
       "    </tr>\n",
       "    <tr>\n",
       "      <th>39705</th>\n",
       "      <td>bedac253-2256-461b-96af-267748e6cecf</td>\n",
       "      <td>2024-09-08</td>\n",
       "      <td>2024-09-08 20:00:42.348 Z</td>\n",
       "      <td>KROGER</td>\n",
       "      <td>614f7e8081627974a57c8a9e</td>\n",
       "      <td>11110121141</td>\n",
       "      <td>1.00</td>\n",
       "      <td>0.89</td>\n",
       "    </tr>\n",
       "    <tr>\n",
       "      <th>39706</th>\n",
       "      <td>bedac253-2256-461b-96af-267748e6cecf</td>\n",
       "      <td>2024-09-08</td>\n",
       "      <td>2024-09-08 20:00:42.348 Z</td>\n",
       "      <td>KROGER</td>\n",
       "      <td>614f7e8081627974a57c8a9e</td>\n",
       "      <td>11110121141</td>\n",
       "      <td>1.00</td>\n",
       "      <td>0.89</td>\n",
       "    </tr>\n",
       "    <tr>\n",
       "      <th>39707</th>\n",
       "      <td>bedac253-2256-461b-96af-267748e6cecf</td>\n",
       "      <td>2024-09-08</td>\n",
       "      <td>2024-09-08 20:00:42.348 Z</td>\n",
       "      <td>KROGER</td>\n",
       "      <td>614f7e8081627974a57c8a9e</td>\n",
       "      <td>11110121141</td>\n",
       "      <td>1.00</td>\n",
       "      <td>0.89</td>\n",
       "    </tr>\n",
       "    <tr>\n",
       "      <th>39708</th>\n",
       "      <td>bedac253-2256-461b-96af-267748e6cecf</td>\n",
       "      <td>2024-09-08</td>\n",
       "      <td>2024-09-08 20:00:42.348 Z</td>\n",
       "      <td>KROGER</td>\n",
       "      <td>614f7e8081627974a57c8a9e</td>\n",
       "      <td>11110121141</td>\n",
       "      <td>1.00</td>\n",
       "      <td>0.89</td>\n",
       "    </tr>\n",
       "  </tbody>\n",
       "</table>\n",
       "</div>"
      ],
      "text/plain": [
       "                                 RECEIPT_ID PURCHASE_DATE  \\\n",
       "18637  bedac253-2256-461b-96af-267748e6cecf    2024-09-08   \n",
       "18638  bedac253-2256-461b-96af-267748e6cecf    2024-09-08   \n",
       "18639  bedac253-2256-461b-96af-267748e6cecf    2024-09-08   \n",
       "18640  bedac253-2256-461b-96af-267748e6cecf    2024-09-08   \n",
       "18641  bedac253-2256-461b-96af-267748e6cecf    2024-09-08   \n",
       "18642  bedac253-2256-461b-96af-267748e6cecf    2024-09-08   \n",
       "39703  bedac253-2256-461b-96af-267748e6cecf    2024-09-08   \n",
       "39704  bedac253-2256-461b-96af-267748e6cecf    2024-09-08   \n",
       "39705  bedac253-2256-461b-96af-267748e6cecf    2024-09-08   \n",
       "39706  bedac253-2256-461b-96af-267748e6cecf    2024-09-08   \n",
       "39707  bedac253-2256-461b-96af-267748e6cecf    2024-09-08   \n",
       "39708  bedac253-2256-461b-96af-267748e6cecf    2024-09-08   \n",
       "\n",
       "                       SCAN_DATE STORE_NAME                   USER_ID  \\\n",
       "18637  2024-09-08 20:00:42.348 Z     KROGER  614f7e8081627974a57c8a9e   \n",
       "18638  2024-09-08 20:00:42.348 Z     KROGER  614f7e8081627974a57c8a9e   \n",
       "18639  2024-09-08 20:00:42.348 Z     KROGER  614f7e8081627974a57c8a9e   \n",
       "18640  2024-09-08 20:00:42.348 Z     KROGER  614f7e8081627974a57c8a9e   \n",
       "18641  2024-09-08 20:00:42.348 Z     KROGER  614f7e8081627974a57c8a9e   \n",
       "18642  2024-09-08 20:00:42.348 Z     KROGER  614f7e8081627974a57c8a9e   \n",
       "39703  2024-09-08 20:00:42.348 Z     KROGER  614f7e8081627974a57c8a9e   \n",
       "39704  2024-09-08 20:00:42.348 Z     KROGER  614f7e8081627974a57c8a9e   \n",
       "39705  2024-09-08 20:00:42.348 Z     KROGER  614f7e8081627974a57c8a9e   \n",
       "39706  2024-09-08 20:00:42.348 Z     KROGER  614f7e8081627974a57c8a9e   \n",
       "39707  2024-09-08 20:00:42.348 Z     KROGER  614f7e8081627974a57c8a9e   \n",
       "39708  2024-09-08 20:00:42.348 Z     KROGER  614f7e8081627974a57c8a9e   \n",
       "\n",
       "           BARCODE FINAL_QUANTITY FINAL_SALE  \n",
       "18637  11110121141           zero       0.89  \n",
       "18638  11110121141           1.00             \n",
       "18639  11110121141           zero       0.89  \n",
       "18640  11110121141           1.00             \n",
       "18641  11110121141           zero       0.89  \n",
       "18642  11110121141           1.00             \n",
       "39703  11110121141           1.00       0.89  \n",
       "39704  11110121141           1.00       0.89  \n",
       "39705  11110121141           1.00       0.89  \n",
       "39706  11110121141           1.00       0.89  \n",
       "39707  11110121141           1.00       0.89  \n",
       "39708  11110121141           1.00       0.89  "
      ]
     },
     "execution_count": 81,
     "metadata": {},
     "output_type": "execute_result"
    }
   ],
   "source": [
    "transactions[transactions[\"RECEIPT_ID\"] == transactions[\"RECEIPT_ID\"].value_counts().index[0]]"
   ]
  },
  {
   "cell_type": "code",
   "execution_count": 85,
   "metadata": {},
   "outputs": [
    {
     "data": {
      "text/plain": [
       "1    21310\n",
       "0     2801\n",
       "2      318\n",
       "3       11\n",
       "Name: BARCODE, dtype: int64"
      ]
     },
     "execution_count": 85,
     "metadata": {},
     "output_type": "execute_result"
    }
   ],
   "source": [
    "transactions.groupby(\"RECEIPT_ID\")[\"BARCODE\"].nunique().value_counts()"
   ]
  },
  {
   "cell_type": "code",
   "execution_count": 16,
   "metadata": {},
   "outputs": [
    {
     "data": {
      "text/plain": [
       "1.00    35698\n",
       "zero    12500\n",
       "2.00     1285\n",
       "3.00      184\n",
       "4.00      139\n",
       "        ...  \n",
       "6.22        1\n",
       "1.22        1\n",
       "1.23        1\n",
       "2.57        1\n",
       "2.27        1\n",
       "Name: FINAL_QUANTITY, Length: 87, dtype: int64"
      ]
     },
     "execution_count": 16,
     "metadata": {},
     "output_type": "execute_result"
    }
   ],
   "source": [
    "transactions[\"FINAL_QUANTITY\"].value_counts()"
   ]
  },
  {
   "cell_type": "markdown",
   "metadata": {},
   "source": [
    "## Answering the Prompt"
   ]
  },
  {
   "cell_type": "markdown",
   "metadata": {},
   "source": [
    "Are there any data quality issues present?"
   ]
  },
  {
   "cell_type": "markdown",
   "metadata": {},
   "source": [
    "* The BARCODE variable from products and transactions presents a range of data quality issues.  Although it is reported as a number, it should be converted from a float to an object as a barcode is meant to act as an identifier and shouldn't be formatted with a \".0\" at the end.  Additionally, BARCODE should act as the primary key in products which means it should be completely unique by row, and this isn't the case.  I identified duplicate barcodes in products as well as entire rows which are duplicates.  There are also missing values for BARCODE in both products and transactions, making those rows useless if I am to join the datasets on that key.\n",
    "* The FINAL_QUANTITY variable from transactions presents a range of data quality issues.  First, the data type should be an int, but it's reported as an object because many of the values are \"zero\".  Furthermore, the values which are \"zero\" don't make sense because I wouldn't think the row should exist if a customer didn't buy any items of a given barcode.  There are also some values which are reported as floats which don't make sense for a variable which is reporting quantity.\n",
    "* Missing values: There are multiple fields with missing values throughout the 3 datasets.  Some may be justified, such as \"CATEGORY_4\", as not all products will have multiple sub-categories which can be entered.  However, there are missing values for BARCODE in both products and transactions which is a problem because it's the primary key in products.  There are also missing values for variables like \"MANUFACTURER\", \"BRAND\", and \"GENDER\" which are worth exploring (Why is the branding unknown for some products? Did users choose not to enter their gender into the data?)\n",
    "* The structure of the transactions table is very unclean and confusing.  There is no primary key which identifies each row in the table, which should correspond to a unique product of a certain quantity that the user bought.  Although it makes sense that RECEIPT_ID is not a unique identifier (there can be multiple products/barcodes on one receipt), it doesn't make sense that there are duplicate barcodes within the same receipt across rows.  The FINAL_QUANTITY variable should reflect the amount of barcodes on a given receipt which repeat, but because there are duplicate barcodes/receipt numbers, it is unclear how the data should be aggregated."
   ]
  },
  {
   "cell_type": "markdown",
   "metadata": {},
   "source": [
    "Are there any fields that are challenging to understand?"
   ]
  },
  {
   "cell_type": "markdown",
   "metadata": {},
   "source": [
    "* The \"CATEGORY_x\" variables from products are slightly confusing because they are only differentiated by different numbers which don't convey information.  However, looking at the data, it seems clear that the variables are referring to a sub-category which becomes more granular as x increases.  I would rename the columns to \"Category\", \"Sub-Category\", \"Sub Category 2\", \"Sub Category 3\".\n",
    "* I would verify the difference in meaning between the \"PURCHASE_DATE\" and \"SCAN_DATE\" in transactions.  It is confusing to me that these two dates are often different in a given row of data because I would expect the customer to purchase the items at approximately the same time items are scanned.  SCAN_DATE is also reported as a datetime whereas PURCHASE_DATE is reported only as a date, so I might request that I also get PURCHASE_DATE as a datetime so I could properly compare the two variables."
   ]
  }
 ],
 "metadata": {
  "kernelspec": {
   "display_name": "Python 3.9.12 ('base')",
   "language": "python",
   "name": "python3"
  },
  "language_info": {
   "codemirror_mode": {
    "name": "ipython",
    "version": 3
   },
   "file_extension": ".py",
   "mimetype": "text/x-python",
   "name": "python",
   "nbconvert_exporter": "python",
   "pygments_lexer": "ipython3",
   "version": "3.9.12"
  },
  "orig_nbformat": 4,
  "vscode": {
   "interpreter": {
    "hash": "814df6786c84b1657b95a7de14d50f077192a08da6a49754b12bf1118c95f144"
   }
  }
 },
 "nbformat": 4,
 "nbformat_minor": 2
}
